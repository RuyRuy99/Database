{
 "cells": [
  {
   "cell_type": "code",
   "execution_count": 1,
   "metadata": {},
   "outputs": [
    {
     "name": "stdout",
     "output_type": "stream",
     "text": [
      "Conexão estabelecida!\n"
     ]
    }
   ],
   "source": [
    "import psycopg2\n",
    "import pandas as pd\n",
    "\n",
    "# Variáveis de conexão com Elephant SQL\n",
    "DATABASE = \"nhjwuyyg\"\n",
    "USER = \"nhjwuyyg\"\n",
    "PASSWORD = \"pFPx0H-MMEGG60OS3YaPn_pM2KYIalOH\"\n",
    "HOST = \"kesavan.db.elephantsql.com\"\n",
    "PORT = \"5432\" \n",
    "\n",
    "# String de conexão\n",
    "conn_string = f\"dbname='{DATABASE}' user='{USER}' password='{PASSWORD}' host='{HOST}' port='{PORT}'\"\n",
    "\n",
    "# Conectando ao banco de dados\n",
    "try:\n",
    "    conn = psycopg2.connect(conn_string)\n",
    "    print(\"Conexão estabelecida!\")\n",
    "except Exception as e:\n",
    "    print(f\"Não foi possível conectar ao banco de dados: {e}\")\n",
    "\n",
    "cur = conn.cursor()"
   ]
  },
  {
   "cell_type": "markdown",
   "metadata": {},
   "source": [
    "### Query 1a\n",
    "- **INSERT INTO EMPREGADO VALUES (...)**: Insere um novo empregado na tabela `EMPREGADO` com os valores especificados para cada coluna."
   ]
  },
  {
   "cell_type": "code",
   "execution_count": null,
   "metadata": {},
   "outputs": [],
   "source": [
    "query_1a = \"\"\"\n",
    "INSERT INTO EMPREGADO VALUES ('943775543', 'Roberto', 'F', 'Silva', 'M', 'Rua X, 22 – Araucária – PR', '1952-06-21', '888665555', '1', 58000);\n",
    "\"\"\"\n",
    "cur = conn.cursor()\n",
    "cur.execute(query_1a)\n",
    "conn.commit()"
   ]
  },
  {
   "cell_type": "markdown",
   "metadata": {},
   "source": [
    "### Query 1f\n",
    "- **DELETE FROM trabalha WHERE essn = '333445555'**: Remove da tabela `trabalha` todos os registros onde o número de segurança social é '333445555'."
   ]
  },
  {
   "cell_type": "code",
   "execution_count": null,
   "metadata": {},
   "outputs": [],
   "source": [
    "query_1f = \"\"\"\n",
    "DELETE FROM trabalha WHERE essn = '333445555';\n",
    "\"\"\"\n",
    "cur.execute(query_1f)\n",
    "conn.commit()"
   ]
  },
  {
   "cell_type": "markdown",
   "metadata": {},
   "source": [
    "### Query 1i\n",
    "- **UPDATE departamento SET gerssn = '123456789', gerdatainicio = '1999-01-10' WHERE dnumero = '5'**: Atualiza o gerente e a data de início do gerente para o departamento número 5."
   ]
  },
  {
   "cell_type": "code",
   "execution_count": null,
   "metadata": {},
   "outputs": [],
   "source": [
    "query_1i = \"\"\"\n",
    "UPDATE departamento SET gerssn = '123456789', gerdatainicio = '1999-01-10' WHERE dnumero = '5';\n",
    "\"\"\"\n",
    "cur.execute(query_1i)\n",
    "conn.commit()"
   ]
  },
  {
   "cell_type": "markdown",
   "metadata": {},
   "source": [
    "### Query 1j\n",
    "- **UPDATE empregado SET superssn = '943775543' WHERE ssn = '999887777'**: Atualiza o supervisor do empregado com ssn '999887777' para '943775543'."
   ]
  },
  {
   "cell_type": "code",
   "execution_count": null,
   "metadata": {},
   "outputs": [],
   "source": [
    "query_1i = \"\"\"\n",
    "UPDATE departamento SET gerssn = '123456789', gerdatainicio = '1999-01-10' WHERE dnumero = '5';\n",
    "\"\"\"\n",
    "cur.execute(query_1i)\n",
    "conn.commit()"
   ]
  },
  {
   "cell_type": "markdown",
   "metadata": {},
   "source": [
    "### Query 2a\n",
    "- **SELECT e.ssn, d.nomedep, d.parentesco**: Seleciona o número de segurança social do empregado, nome do dependente e o parentesco.\n",
    "- **FROM EMPREGADO e JOIN DEPENDENTE d ON d.essn = e.ssn**: Realiza um `JOIN` entre as tabelas `EMPREGADO` e `DEPENDENTE` onde o essn do dependente corresponde ao ssn do empregado.\n",
    "- **ORDER BY e.ssn ASC, d.parentesco DESC**: Ordena os resultados pelo ssn de forma ascendente e pelo parentesco de forma descendente."
   ]
  },
  {
   "cell_type": "code",
   "execution_count": 2,
   "metadata": {},
   "outputs": [
    {
     "name": "stderr",
     "output_type": "stream",
     "text": [
      "C:\\Users\\Ruy\\AppData\\Local\\Temp\\ipykernel_4520\\422394707.py:4: UserWarning: pandas only supports SQLAlchemy connectable (engine/connection) or database string URI or sqlite3 DBAPI2 connection. Other DBAPI2 objects are not tested. Please consider using SQLAlchemy.\n",
      "  df_2a = pd.read_sql(query_2a, conn)\n"
     ]
    },
    {
     "data": {
      "text/html": [
       "<div>\n",
       "<style scoped>\n",
       "    .dataframe tbody tr th:only-of-type {\n",
       "        vertical-align: middle;\n",
       "    }\n",
       "\n",
       "    .dataframe tbody tr th {\n",
       "        vertical-align: top;\n",
       "    }\n",
       "\n",
       "    .dataframe thead th {\n",
       "        text-align: right;\n",
       "    }\n",
       "</style>\n",
       "<table border=\"1\" class=\"dataframe\">\n",
       "  <thead>\n",
       "    <tr style=\"text-align: right;\">\n",
       "      <th></th>\n",
       "      <th>ssn</th>\n",
       "      <th>nomedep</th>\n",
       "      <th>parentesco</th>\n",
       "    </tr>\n",
       "  </thead>\n",
       "  <tbody>\n",
       "    <tr>\n",
       "      <th>0</th>\n",
       "      <td>123456789</td>\n",
       "      <td>Michel</td>\n",
       "      <td>FILHO</td>\n",
       "    </tr>\n",
       "    <tr>\n",
       "      <th>1</th>\n",
       "      <td>123456789</td>\n",
       "      <td>Alice</td>\n",
       "      <td>FILHA</td>\n",
       "    </tr>\n",
       "    <tr>\n",
       "      <th>2</th>\n",
       "      <td>123456789</td>\n",
       "      <td>Elizabete</td>\n",
       "      <td>CONJUGE</td>\n",
       "    </tr>\n",
       "    <tr>\n",
       "      <th>3</th>\n",
       "      <td>333445555</td>\n",
       "      <td>Teodoro</td>\n",
       "      <td>FILHO</td>\n",
       "    </tr>\n",
       "    <tr>\n",
       "      <th>4</th>\n",
       "      <td>333445555</td>\n",
       "      <td>Alice</td>\n",
       "      <td>FILHA</td>\n",
       "    </tr>\n",
       "    <tr>\n",
       "      <th>5</th>\n",
       "      <td>333445555</td>\n",
       "      <td>Joana</td>\n",
       "      <td>CONJUGE</td>\n",
       "    </tr>\n",
       "    <tr>\n",
       "      <th>6</th>\n",
       "      <td>453453453</td>\n",
       "      <td>Joao</td>\n",
       "      <td>CONJUGE</td>\n",
       "    </tr>\n",
       "    <tr>\n",
       "      <th>7</th>\n",
       "      <td>987654321</td>\n",
       "      <td>Abdala</td>\n",
       "      <td>CONJUGE</td>\n",
       "    </tr>\n",
       "  </tbody>\n",
       "</table>\n",
       "</div>"
      ],
      "text/plain": [
       "         ssn    nomedep parentesco\n",
       "0  123456789     Michel      FILHO\n",
       "1  123456789      Alice      FILHA\n",
       "2  123456789  Elizabete    CONJUGE\n",
       "3  333445555    Teodoro      FILHO\n",
       "4  333445555      Alice      FILHA\n",
       "5  333445555      Joana    CONJUGE\n",
       "6  453453453       Joao    CONJUGE\n",
       "7  987654321     Abdala    CONJUGE"
      ]
     },
     "execution_count": 2,
     "metadata": {},
     "output_type": "execute_result"
    }
   ],
   "source": [
    "query_2a = \"\"\"\n",
    "SELECT e.ssn, d.nomedep, d.parentesco FROM EMPREGADO e JOIN DEPENDENTE d ON d.essn = e.ssn ORDER BY e.ssn ASC, d.parentesco DESC;\n",
    "\"\"\"\n",
    "df_2a = pd.read_sql(query_2a, conn)\n",
    "df_2a"
   ]
  },
  {
   "cell_type": "markdown",
   "metadata": {},
   "source": [
    "### Query 2b\n",
    "- **SELECT e.pnome AS \"Nome do Empregado\", e.endereco AS \"Endereço do Empregado\"**: Seleciona o nome e o endereço dos empregados.\n",
    "- **FROM EMPREGADO e JOIN DEPARTAMENTO d ON e.dno = d.dnumero**: Realiza um `JOIN` entre as tabelas `EMPREGADO` e `DEPARTAMENTO` baseado no número do departamento.\n",
    "- **WHERE d.dnumero = '5'**: Filtra os empregados que pertencem ao departamento número 5."
   ]
  },
  {
   "cell_type": "code",
   "execution_count": 3,
   "metadata": {},
   "outputs": [
    {
     "name": "stderr",
     "output_type": "stream",
     "text": [
      "C:\\Users\\Ruy\\AppData\\Local\\Temp\\ipykernel_4520\\2229755156.py:4: UserWarning: pandas only supports SQLAlchemy connectable (engine/connection) or database string URI or sqlite3 DBAPI2 connection. Other DBAPI2 objects are not tested. Please consider using SQLAlchemy.\n",
      "  df_2b = pd.read_sql(query_2b, conn)\n"
     ]
    },
    {
     "data": {
      "text/html": [
       "<div>\n",
       "<style scoped>\n",
       "    .dataframe tbody tr th:only-of-type {\n",
       "        vertical-align: middle;\n",
       "    }\n",
       "\n",
       "    .dataframe tbody tr th {\n",
       "        vertical-align: top;\n",
       "    }\n",
       "\n",
       "    .dataframe thead th {\n",
       "        text-align: right;\n",
       "    }\n",
       "</style>\n",
       "<table border=\"1\" class=\"dataframe\">\n",
       "  <thead>\n",
       "    <tr style=\"text-align: right;\">\n",
       "      <th></th>\n",
       "      <th>Nome do Empregado</th>\n",
       "      <th>Endereço do Empregado</th>\n",
       "    </tr>\n",
       "  </thead>\n",
       "  <tbody>\n",
       "    <tr>\n",
       "      <th>0</th>\n",
       "      <td>Joao</td>\n",
       "      <td>R. 24 de maio, 1500 - Curitiba - PR</td>\n",
       "    </tr>\n",
       "    <tr>\n",
       "      <th>1</th>\n",
       "      <td>Fabio</td>\n",
       "      <td>R. Alagoas, 325 - Curitiba - PR</td>\n",
       "    </tr>\n",
       "    <tr>\n",
       "      <th>2</th>\n",
       "      <td>Ricardo</td>\n",
       "      <td>Av. Figueira, 55 - Almirante Tamandare - PR</td>\n",
       "    </tr>\n",
       "    <tr>\n",
       "      <th>3</th>\n",
       "      <td>Jussara</td>\n",
       "      <td>Trav. da Lapa, 23 - Curitiba - PR</td>\n",
       "    </tr>\n",
       "  </tbody>\n",
       "</table>\n",
       "</div>"
      ],
      "text/plain": [
       "  Nome do Empregado                        Endereço do Empregado\n",
       "0              Joao          R. 24 de maio, 1500 - Curitiba - PR\n",
       "1             Fabio              R. Alagoas, 325 - Curitiba - PR\n",
       "2           Ricardo  Av. Figueira, 55 - Almirante Tamandare - PR\n",
       "3           Jussara            Trav. da Lapa, 23 - Curitiba - PR"
      ]
     },
     "execution_count": 3,
     "metadata": {},
     "output_type": "execute_result"
    }
   ],
   "source": [
    "query_2b = \"\"\"\n",
    "SELECT e.pnome AS \"Nome do Empregado\", e.endereco AS \"Endereço do Empregado\" FROM EMPREGADO e JOIN DEPARTAMENTO d ON e.dno = d.dnumero WHERE d.dnumero = '5';\n",
    "\"\"\"\n",
    "df_2b = pd.read_sql(query_2b, conn)\n",
    "df_2b\n"
   ]
  },
  {
   "cell_type": "markdown",
   "metadata": {},
   "source": [
    "### Query 2c\n",
    "- **SELECT ...**: Seleciona vários atributos incluindo o nome do projeto, nome do departamento, último nome, endereço e data de nascimento do gerente.\n",
    "- **FROM PROJETO p JOIN DEPARTAMENTO d ON p.dnum = d.dnumero JOIN EMPREGADO e ON d.gerssn = e.ssn**: Conecta as tabelas `PROJETO`, `DEPARTAMENTO`, e `EMPREGADO` para reunir informações sobre projetos e seus gerentes.\n",
    "- **WHERE p.plocal= 'Araucaria'**: Filtra os projetos que estão localizados em 'Araucária'."
   ]
  },
  {
   "cell_type": "code",
   "execution_count": 4,
   "metadata": {},
   "outputs": [
    {
     "name": "stderr",
     "output_type": "stream",
     "text": [
      "C:\\Users\\Ruy\\AppData\\Local\\Temp\\ipykernel_4520\\3757195830.py:4: UserWarning: pandas only supports SQLAlchemy connectable (engine/connection) or database string URI or sqlite3 DBAPI2 connection. Other DBAPI2 objects are not tested. Please consider using SQLAlchemy.\n",
      "  df_2c = pd.read_sql(query_2c, conn)\n"
     ]
    },
    {
     "data": {
      "text/html": [
       "<div>\n",
       "<style scoped>\n",
       "    .dataframe tbody tr th:only-of-type {\n",
       "        vertical-align: middle;\n",
       "    }\n",
       "\n",
       "    .dataframe tbody tr th {\n",
       "        vertical-align: top;\n",
       "    }\n",
       "\n",
       "    .dataframe thead th {\n",
       "        text-align: right;\n",
       "    }\n",
       "</style>\n",
       "<table border=\"1\" class=\"dataframe\">\n",
       "  <thead>\n",
       "    <tr style=\"text-align: right;\">\n",
       "      <th></th>\n",
       "      <th>Nome do Projeto</th>\n",
       "      <th>Nome do Departamento</th>\n",
       "      <th>Último Nome do Gerente</th>\n",
       "      <th>Endereço do Gerente</th>\n",
       "      <th>Data de Nascimento do Gerente</th>\n",
       "    </tr>\n",
       "  </thead>\n",
       "  <tbody>\n",
       "    <tr>\n",
       "      <th>0</th>\n",
       "      <td>ProdutoY</td>\n",
       "      <td>Pesquisa</td>\n",
       "      <td>Souza</td>\n",
       "      <td>R. 24 de maio, 1500 - Curitiba - PR</td>\n",
       "      <td>1965-01-09</td>\n",
       "    </tr>\n",
       "  </tbody>\n",
       "</table>\n",
       "</div>"
      ],
      "text/plain": [
       "  Nome do Projeto Nome do Departamento Último Nome do Gerente  \\\n",
       "0        ProdutoY             Pesquisa                  Souza   \n",
       "\n",
       "                   Endereço do Gerente Data de Nascimento do Gerente  \n",
       "0  R. 24 de maio, 1500 - Curitiba - PR                    1965-01-09  "
      ]
     },
     "execution_count": 4,
     "metadata": {},
     "output_type": "execute_result"
    }
   ],
   "source": [
    "query_2c = \"\"\"\n",
    "SELECT p.pjnome AS \"Nome do Projeto\", d.dnome AS \"Nome do Departamento\", e.unome AS \"Último Nome do Gerente\", e.endereco AS \"Endereço do Gerente\", e.datanasc AS \"Data de Nascimento do Gerente\" FROM PROJETO p JOIN DEPARTAMENTO d ON p.dnum = d.dnumero JOIN EMPREGADO e ON d.gerssn = e.ssn WHERE p.plocal= 'Araucaria';\n",
    "\"\"\"\n",
    "df_2c = pd.read_sql(query_2c, conn)\n",
    "df_2c"
   ]
  },
  {
   "cell_type": "markdown",
   "metadata": {},
   "source": [
    "### Query 2d\n",
    "- **SELECT e.pnome, t.horas**: Seleciona o nome do empregado e as horas trabalhadas.\n",
    "- **FROM TRABALHA t JOIN EMPREGADO e ON t.essn = e.ssn JOIN PROJETO p ON t.pno = p.pnumero**: Realiza um `JOIN` entre as tabelas `TRABALHA`, `EMPREGADO` e `PROJETO`.\n",
    "- **WHERE t.horas > '10' AND p.pjnome = 'Automatizacao'**: Filtra os registros para incluir apenas aqueles em que as horas trabalhadas são maiores que 10 e o nome do projeto é 'Automatização'."
   ]
  },
  {
   "cell_type": "code",
   "execution_count": 5,
   "metadata": {},
   "outputs": [
    {
     "name": "stderr",
     "output_type": "stream",
     "text": [
      "C:\\Users\\Ruy\\AppData\\Local\\Temp\\ipykernel_4520\\1202953585.py:4: UserWarning: pandas only supports SQLAlchemy connectable (engine/connection) or database string URI or sqlite3 DBAPI2 connection. Other DBAPI2 objects are not tested. Please consider using SQLAlchemy.\n",
      "  df_2d = pd.read_sql(query_2d, conn)\n"
     ]
    },
    {
     "data": {
      "text/html": [
       "<div>\n",
       "<style scoped>\n",
       "    .dataframe tbody tr th:only-of-type {\n",
       "        vertical-align: middle;\n",
       "    }\n",
       "\n",
       "    .dataframe tbody tr th {\n",
       "        vertical-align: top;\n",
       "    }\n",
       "\n",
       "    .dataframe thead th {\n",
       "        text-align: right;\n",
       "    }\n",
       "</style>\n",
       "<table border=\"1\" class=\"dataframe\">\n",
       "  <thead>\n",
       "    <tr style=\"text-align: right;\">\n",
       "      <th></th>\n",
       "      <th>pnome</th>\n",
       "      <th>horas</th>\n",
       "    </tr>\n",
       "  </thead>\n",
       "  <tbody>\n",
       "    <tr>\n",
       "      <th>0</th>\n",
       "      <td>Alberto</td>\n",
       "      <td>35.0</td>\n",
       "    </tr>\n",
       "  </tbody>\n",
       "</table>\n",
       "</div>"
      ],
      "text/plain": [
       "     pnome  horas\n",
       "0  Alberto   35.0"
      ]
     },
     "execution_count": 5,
     "metadata": {},
     "output_type": "execute_result"
    }
   ],
   "source": [
    "query_2d = \"\"\"\n",
    "SELECT e.pnome, t.horas FROM TRABALHA t JOIN EMPREGADO e ON t.essn = e.ssn JOIN PROJETO p ON t.pno = p.pnumero WHERE t.horas > '10' AND p.pjnome = 'Automatizacao';\n",
    "\"\"\"\n",
    "df_2d = pd.read_sql(query_2d, conn)\n",
    "df_2d"
   ]
  },
  {
   "cell_type": "markdown",
   "metadata": {},
   "source": [
    "### Query 2e\n",
    "- **SELECT pnome AS \"Nome do Empregado\"**: Seleciona os nomes dos empregados.\n",
    "- **FROM EMPREGADO**: Especifica a tabela de onde os dados são retirados.\n",
    "- **ORDER BY salario DESC LIMIT 3**: Ordena os empregados pelo salário de forma decrescente e limita os resultados aos três com maiores salários."
   ]
  },
  {
   "cell_type": "code",
   "execution_count": 6,
   "metadata": {},
   "outputs": [
    {
     "name": "stderr",
     "output_type": "stream",
     "text": [
      "C:\\Users\\Ruy\\AppData\\Local\\Temp\\ipykernel_4520\\2734383597.py:4: UserWarning: pandas only supports SQLAlchemy connectable (engine/connection) or database string URI or sqlite3 DBAPI2 connection. Other DBAPI2 objects are not tested. Please consider using SQLAlchemy.\n",
      "  df_2e = pd.read_sql(query_2e, conn)\n"
     ]
    },
    {
     "data": {
      "text/html": [
       "<div>\n",
       "<style scoped>\n",
       "    .dataframe tbody tr th:only-of-type {\n",
       "        vertical-align: middle;\n",
       "    }\n",
       "\n",
       "    .dataframe tbody tr th {\n",
       "        vertical-align: top;\n",
       "    }\n",
       "\n",
       "    .dataframe thead th {\n",
       "        text-align: right;\n",
       "    }\n",
       "</style>\n",
       "<table border=\"1\" class=\"dataframe\">\n",
       "  <thead>\n",
       "    <tr style=\"text-align: right;\">\n",
       "      <th></th>\n",
       "      <th>Nome do Empregado</th>\n",
       "    </tr>\n",
       "  </thead>\n",
       "  <tbody>\n",
       "    <tr>\n",
       "      <th>0</th>\n",
       "      <td>Roberto</td>\n",
       "    </tr>\n",
       "    <tr>\n",
       "      <th>1</th>\n",
       "      <td>Roberto</td>\n",
       "    </tr>\n",
       "    <tr>\n",
       "      <th>2</th>\n",
       "      <td>Joaquim</td>\n",
       "    </tr>\n",
       "  </tbody>\n",
       "</table>\n",
       "</div>"
      ],
      "text/plain": [
       "  Nome do Empregado\n",
       "0           Roberto\n",
       "1           Roberto\n",
       "2           Joaquim"
      ]
     },
     "execution_count": 6,
     "metadata": {},
     "output_type": "execute_result"
    }
   ],
   "source": [
    "query_2e = \"\"\"\n",
    "SELECT pnome AS \"Nome do Empregado\" FROM EMPREGADO ORDER BY salario DESC LIMIT 3;\n",
    "\"\"\"\n",
    "df_2e = pd.read_sql(query_2e, conn)\n",
    "df_2e"
   ]
  },
  {
   "cell_type": "markdown",
   "metadata": {},
   "source": [
    "### Query 2f\n",
    "- **SELECT pnome AS \"Nome do Supervisor\", (salario * 1.20) AS \"Salário com Aumento\"**: Seleciona o nome do supervisor e calcula um aumento de 20% no salário.\n",
    "- **FROM EMPREGADO**: Indica que a consulta é feita na tabela `EMPREGADO`.\n",
    "- **WHERE ssn IN (SELECT superssn FROM EMPREGADO WHERE superssn IS NOT NULL)**: Filtra para incluir apenas os empregados que são supervisores."
   ]
  },
  {
   "cell_type": "code",
   "execution_count": 7,
   "metadata": {},
   "outputs": [
    {
     "name": "stderr",
     "output_type": "stream",
     "text": [
      "C:\\Users\\Ruy\\AppData\\Local\\Temp\\ipykernel_4520\\2270458952.py:4: UserWarning: pandas only supports SQLAlchemy connectable (engine/connection) or database string URI or sqlite3 DBAPI2 connection. Other DBAPI2 objects are not tested. Please consider using SQLAlchemy.\n",
      "  df_2f = pd.read_sql(query_2f, conn)\n"
     ]
    },
    {
     "data": {
      "text/html": [
       "<div>\n",
       "<style scoped>\n",
       "    .dataframe tbody tr th:only-of-type {\n",
       "        vertical-align: middle;\n",
       "    }\n",
       "\n",
       "    .dataframe tbody tr th {\n",
       "        vertical-align: top;\n",
       "    }\n",
       "\n",
       "    .dataframe thead th {\n",
       "        text-align: right;\n",
       "    }\n",
       "</style>\n",
       "<table border=\"1\" class=\"dataframe\">\n",
       "  <thead>\n",
       "    <tr style=\"text-align: right;\">\n",
       "      <th></th>\n",
       "      <th>Nome do Supervisor</th>\n",
       "      <th>Salário com Aumento</th>\n",
       "    </tr>\n",
       "  </thead>\n",
       "  <tbody>\n",
       "    <tr>\n",
       "      <th>0</th>\n",
       "      <td>Fabio</td>\n",
       "      <td>48000.0</td>\n",
       "    </tr>\n",
       "    <tr>\n",
       "      <th>1</th>\n",
       "      <td>Jennifer</td>\n",
       "      <td>51600.0</td>\n",
       "    </tr>\n",
       "    <tr>\n",
       "      <th>2</th>\n",
       "      <td>Joaquim</td>\n",
       "      <td>66000.0</td>\n",
       "    </tr>\n",
       "    <tr>\n",
       "      <th>3</th>\n",
       "      <td>Roberto</td>\n",
       "      <td>69600.0</td>\n",
       "    </tr>\n",
       "  </tbody>\n",
       "</table>\n",
       "</div>"
      ],
      "text/plain": [
       "  Nome do Supervisor  Salário com Aumento\n",
       "0              Fabio              48000.0\n",
       "1           Jennifer              51600.0\n",
       "2            Joaquim              66000.0\n",
       "3            Roberto              69600.0"
      ]
     },
     "execution_count": 7,
     "metadata": {},
     "output_type": "execute_result"
    }
   ],
   "source": [
    "query_2f = \"\"\"\n",
    "SELECT pnome AS \"Nome do Supervisor\", (salario * 1.20) AS \"Salário com Aumento\" FROM EMPREGADO WHERE ssn IN (SELECT superssn FROM EMPREGADO WHERE superssn IS NOT NULL);\n",
    "\"\"\"\n",
    "df_2f = pd.read_sql(query_2f, conn)\n",
    "df_2f"
   ]
  },
  {
   "cell_type": "markdown",
   "metadata": {},
   "source": [
    "### Query 2g\n",
    "- **SELECT d.dnome AS \"Nome do Departamento\", l.dlocalizacao AS \"Localidade\"**: Seleciona o nome do departamento e sua localização.\n",
    "- **FROM DEPARTAMENTO d JOIN LOCALIZACAO l ON d.dnumero = l.dnum**: Realiza um `JOIN` entre as tabelas `DEPARTAMENTO` e `LOCALIZACAO` para associar cada departamento à sua localização física."
   ]
  },
  {
   "cell_type": "code",
   "execution_count": 8,
   "metadata": {},
   "outputs": [
    {
     "name": "stderr",
     "output_type": "stream",
     "text": [
      "C:\\Users\\Ruy\\AppData\\Local\\Temp\\ipykernel_4520\\1935961321.py:4: UserWarning: pandas only supports SQLAlchemy connectable (engine/connection) or database string URI or sqlite3 DBAPI2 connection. Other DBAPI2 objects are not tested. Please consider using SQLAlchemy.\n",
      "  df_2g = pd.read_sql(query_2g, conn)\n"
     ]
    },
    {
     "data": {
      "text/html": [
       "<div>\n",
       "<style scoped>\n",
       "    .dataframe tbody tr th:only-of-type {\n",
       "        vertical-align: middle;\n",
       "    }\n",
       "\n",
       "    .dataframe tbody tr th {\n",
       "        vertical-align: top;\n",
       "    }\n",
       "\n",
       "    .dataframe thead th {\n",
       "        text-align: right;\n",
       "    }\n",
       "</style>\n",
       "<table border=\"1\" class=\"dataframe\">\n",
       "  <thead>\n",
       "    <tr style=\"text-align: right;\">\n",
       "      <th></th>\n",
       "      <th>Nome do Departamento</th>\n",
       "      <th>Localidade</th>\n",
       "    </tr>\n",
       "  </thead>\n",
       "  <tbody>\n",
       "    <tr>\n",
       "      <th>0</th>\n",
       "      <td>Sede Administrativa</td>\n",
       "      <td>Curitiba</td>\n",
       "    </tr>\n",
       "    <tr>\n",
       "      <th>1</th>\n",
       "      <td>Administracao</td>\n",
       "      <td>Colombo</td>\n",
       "    </tr>\n",
       "    <tr>\n",
       "      <th>2</th>\n",
       "      <td>Pesquisa</td>\n",
       "      <td>Araucaria</td>\n",
       "    </tr>\n",
       "    <tr>\n",
       "      <th>3</th>\n",
       "      <td>Pesquisa</td>\n",
       "      <td>Curitiba</td>\n",
       "    </tr>\n",
       "    <tr>\n",
       "      <th>4</th>\n",
       "      <td>Pesquisa</td>\n",
       "      <td>Pinhais</td>\n",
       "    </tr>\n",
       "  </tbody>\n",
       "</table>\n",
       "</div>"
      ],
      "text/plain": [
       "  Nome do Departamento Localidade\n",
       "0  Sede Administrativa   Curitiba\n",
       "1        Administracao    Colombo\n",
       "2             Pesquisa  Araucaria\n",
       "3             Pesquisa   Curitiba\n",
       "4             Pesquisa    Pinhais"
      ]
     },
     "execution_count": 8,
     "metadata": {},
     "output_type": "execute_result"
    }
   ],
   "source": [
    "query_2g = \"\"\"\n",
    "SELECT d.dnome AS \"Nome do Departamento\", l.dlocalizacao AS \"Localidade\" FROM DEPARTAMENTO d JOIN LOCALIZACAO l ON d.dnumero = l.dnum;\n",
    "\"\"\"\n",
    "df_2g = pd.read_sql(query_2g, conn)\n",
    "df_2g"
   ]
  },
  {
   "cell_type": "markdown",
   "metadata": {},
   "source": [
    "### Query 2h\n",
    "- **SELECT d.dnome AS \"Nome do Departamento\", p.pjnome AS \"Nome do Projeto\"**: Seleciona o nome do departamento e o nome do projeto associado.\n",
    "- **FROM DEPARTAMENTO d JOIN PROJETO p ON d.dnumero = p.dnum**: Conecta a tabela `DEPARTAMENTO` com a tabela `PROJETO`, usando o número do departamento para encontrar todos os projetos relacionados a cada departamento."
   ]
  },
  {
   "cell_type": "code",
   "execution_count": 9,
   "metadata": {},
   "outputs": [
    {
     "name": "stderr",
     "output_type": "stream",
     "text": [
      "C:\\Users\\Ruy\\AppData\\Local\\Temp\\ipykernel_4520\\1929250889.py:4: UserWarning: pandas only supports SQLAlchemy connectable (engine/connection) or database string URI or sqlite3 DBAPI2 connection. Other DBAPI2 objects are not tested. Please consider using SQLAlchemy.\n",
      "  df_2h = pd.read_sql(query_2h, conn)\n"
     ]
    },
    {
     "data": {
      "text/html": [
       "<div>\n",
       "<style scoped>\n",
       "    .dataframe tbody tr th:only-of-type {\n",
       "        vertical-align: middle;\n",
       "    }\n",
       "\n",
       "    .dataframe tbody tr th {\n",
       "        vertical-align: top;\n",
       "    }\n",
       "\n",
       "    .dataframe thead th {\n",
       "        text-align: right;\n",
       "    }\n",
       "</style>\n",
       "<table border=\"1\" class=\"dataframe\">\n",
       "  <thead>\n",
       "    <tr style=\"text-align: right;\">\n",
       "      <th></th>\n",
       "      <th>Nome do Departamento</th>\n",
       "      <th>Nome do Projeto</th>\n",
       "    </tr>\n",
       "  </thead>\n",
       "  <tbody>\n",
       "    <tr>\n",
       "      <th>0</th>\n",
       "      <td>Pesquisa</td>\n",
       "      <td>ProdutoX</td>\n",
       "    </tr>\n",
       "    <tr>\n",
       "      <th>1</th>\n",
       "      <td>Pesquisa</td>\n",
       "      <td>ProdutoY</td>\n",
       "    </tr>\n",
       "    <tr>\n",
       "      <th>2</th>\n",
       "      <td>Pesquisa</td>\n",
       "      <td>ProdutoZ</td>\n",
       "    </tr>\n",
       "    <tr>\n",
       "      <th>3</th>\n",
       "      <td>Administracao</td>\n",
       "      <td>Automatizacao</td>\n",
       "    </tr>\n",
       "    <tr>\n",
       "      <th>4</th>\n",
       "      <td>Sede Administrativa</td>\n",
       "      <td>Reorganizacao</td>\n",
       "    </tr>\n",
       "    <tr>\n",
       "      <th>5</th>\n",
       "      <td>Administracao</td>\n",
       "      <td>Novos Beneficios</td>\n",
       "    </tr>\n",
       "  </tbody>\n",
       "</table>\n",
       "</div>"
      ],
      "text/plain": [
       "  Nome do Departamento   Nome do Projeto\n",
       "0             Pesquisa          ProdutoX\n",
       "1             Pesquisa          ProdutoY\n",
       "2             Pesquisa          ProdutoZ\n",
       "3        Administracao     Automatizacao\n",
       "4  Sede Administrativa     Reorganizacao\n",
       "5        Administracao  Novos Beneficios"
      ]
     },
     "execution_count": 9,
     "metadata": {},
     "output_type": "execute_result"
    }
   ],
   "source": [
    "query_2h = \"\"\"\n",
    "SELECT d.dnome AS \"Nome do Departamento\", p.pjnome AS \"Nome do Projeto\" FROM DEPARTAMENTO d JOIN PROJETO p ON d.dnumero = p.dnum;\n",
    "\"\"\"\n",
    "df_2h = pd.read_sql(query_2h, conn)\n",
    "df_2h"
   ]
  },
  {
   "cell_type": "markdown",
   "metadata": {},
   "source": [
    "### Query 2i\n",
    "- **SELECT pnome AS \"Nome do Empregado\", datanasc AS \"Data de Nascimento\"**: Seleciona o nome e a data de nascimento dos empregados.\n",
    "- **FROM EMPREGADO**: Especifica a tabela `EMPREGADO` de onde os dados serão retirados.\n",
    "- **WHERE sexo = 'F' AND salario > 30000**: Filtra para incluir apenas empregadas do sexo feminino com salário superior a 30.000."
   ]
  },
  {
   "cell_type": "code",
   "execution_count": 10,
   "metadata": {},
   "outputs": [
    {
     "name": "stderr",
     "output_type": "stream",
     "text": [
      "C:\\Users\\Ruy\\AppData\\Local\\Temp\\ipykernel_4520\\2470596438.py:4: UserWarning: pandas only supports SQLAlchemy connectable (engine/connection) or database string URI or sqlite3 DBAPI2 connection. Other DBAPI2 objects are not tested. Please consider using SQLAlchemy.\n",
      "  df_2i = pd.read_sql(query_2i, conn)\n"
     ]
    },
    {
     "data": {
      "text/html": [
       "<div>\n",
       "<style scoped>\n",
       "    .dataframe tbody tr th:only-of-type {\n",
       "        vertical-align: middle;\n",
       "    }\n",
       "\n",
       "    .dataframe tbody tr th {\n",
       "        vertical-align: top;\n",
       "    }\n",
       "\n",
       "    .dataframe thead th {\n",
       "        text-align: right;\n",
       "    }\n",
       "</style>\n",
       "<table border=\"1\" class=\"dataframe\">\n",
       "  <thead>\n",
       "    <tr style=\"text-align: right;\">\n",
       "      <th></th>\n",
       "      <th>Nome do Empregado</th>\n",
       "      <th>Data de Nascimento</th>\n",
       "    </tr>\n",
       "  </thead>\n",
       "  <tbody>\n",
       "    <tr>\n",
       "      <th>0</th>\n",
       "      <td>Jennifer</td>\n",
       "      <td>1941-06-20</td>\n",
       "    </tr>\n",
       "  </tbody>\n",
       "</table>\n",
       "</div>"
      ],
      "text/plain": [
       "  Nome do Empregado Data de Nascimento\n",
       "0          Jennifer         1941-06-20"
      ]
     },
     "execution_count": 10,
     "metadata": {},
     "output_type": "execute_result"
    }
   ],
   "source": [
    "query_2i = \"\"\"\n",
    "SELECT pnome AS \"Nome do Empregado\", datanasc AS \"Data de Nascimento\" FROM EMPREGADO WHERE sexo = 'F' AND salario > 30000;\n",
    "\"\"\"\n",
    "df_2i = pd.read_sql(query_2i, conn)\n",
    "df_2i"
   ]
  },
  {
   "cell_type": "markdown",
   "metadata": {},
   "source": [
    "### Query 2j\n",
    "- **SELECT p.pjnome AS \"Nome do Projeto\"**: Seleciona o nome do projeto.\n",
    "- **FROM EMPREGADO e JOIN TRABALHA t ON e.ssn = t.essn JOIN PROJETO p ON t.pno = p.pnumero**: Realiza um `JOIN` entre as tabelas `EMPREGADO`, `TRABALHA` e `PROJETO`, conectando um empregado a seu trabalho e ao projeto correspondente.\n",
    "- **WHERE e.pnome = 'Fabio'**: Filtra para incluir apenas os projetos nos quais um empregado chamado Fabio trabalha."
   ]
  },
  {
   "cell_type": "code",
   "execution_count": 11,
   "metadata": {},
   "outputs": [
    {
     "name": "stderr",
     "output_type": "stream",
     "text": [
      "C:\\Users\\Ruy\\AppData\\Local\\Temp\\ipykernel_4520\\2668046750.py:4: UserWarning: pandas only supports SQLAlchemy connectable (engine/connection) or database string URI or sqlite3 DBAPI2 connection. Other DBAPI2 objects are not tested. Please consider using SQLAlchemy.\n",
      "  df_2j = pd.read_sql(query_2j, conn)\n"
     ]
    },
    {
     "data": {
      "text/html": [
       "<div>\n",
       "<style scoped>\n",
       "    .dataframe tbody tr th:only-of-type {\n",
       "        vertical-align: middle;\n",
       "    }\n",
       "\n",
       "    .dataframe tbody tr th {\n",
       "        vertical-align: top;\n",
       "    }\n",
       "\n",
       "    .dataframe thead th {\n",
       "        text-align: right;\n",
       "    }\n",
       "</style>\n",
       "<table border=\"1\" class=\"dataframe\">\n",
       "  <thead>\n",
       "    <tr style=\"text-align: right;\">\n",
       "      <th></th>\n",
       "      <th>Nome do Projeto</th>\n",
       "    </tr>\n",
       "  </thead>\n",
       "  <tbody>\n",
       "  </tbody>\n",
       "</table>\n",
       "</div>"
      ],
      "text/plain": [
       "Empty DataFrame\n",
       "Columns: [Nome do Projeto]\n",
       "Index: []"
      ]
     },
     "execution_count": 11,
     "metadata": {},
     "output_type": "execute_result"
    }
   ],
   "source": [
    "query_2j = \"\"\"\n",
    "SELECT p.pjnome AS \"Nome do Projeto\" FROM EMPREGADO e JOIN TRABALHA t ON e.ssn = t.essn JOIN PROJETO p ON t.pno = p.pnumero WHERE e.pnome = 'Fabio';\n",
    "\"\"\"\n",
    "df_2j = pd.read_sql(query_2j, conn)\n",
    "df_2j"
   ]
  },
  {
   "cell_type": "code",
   "execution_count": 12,
   "metadata": {},
   "outputs": [],
   "source": [
    "# Fechar cursor e conexão\n",
    "cur.close()\n",
    "conn.close()\n"
   ]
  }
 ],
 "metadata": {
  "kernelspec": {
   "display_name": "Python 3",
   "language": "python",
   "name": "python3"
  },
  "language_info": {
   "codemirror_mode": {
    "name": "ipython",
    "version": 3
   },
   "file_extension": ".py",
   "mimetype": "text/x-python",
   "name": "python",
   "nbconvert_exporter": "python",
   "pygments_lexer": "ipython3",
   "version": "3.12.4"
  }
 },
 "nbformat": 4,
 "nbformat_minor": 2
}
