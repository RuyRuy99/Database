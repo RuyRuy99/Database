{
 "cells": [
  {
   "cell_type": "markdown",
   "metadata": {},
   "source": [
    "# ATIVIDADE 2 BIG DATA - 2024\n",
    "# RUY DE MORAIS E SILVA"
   ]
  },
  {
   "cell_type": "code",
   "execution_count": 1,
   "metadata": {},
   "outputs": [
    {
     "name": "stdout",
     "output_type": "stream",
     "text": [
      "Conexão estabelecida!\n"
     ]
    }
   ],
   "source": [
    "import psycopg2\n",
    "import pandas as pd\n",
    "\n",
    "# Variáveis de conexão com Elephant SQL\n",
    "DATABASE = \"nhjwuyyg\"\n",
    "USER = \"nhjwuyyg\"\n",
    "PASSWORD = \"pFPx0H-MMEGG60OS3YaPn_pM2KYIalOH\"\n",
    "HOST = \"kesavan.db.elephantsql.com\"\n",
    "PORT = \"5432\" \n",
    "\n",
    "# String de conexão\n",
    "conn_string = f\"dbname='{DATABASE}' user='{USER}' password='{PASSWORD}' host='{HOST}' port='{PORT}'\"\n",
    "\n",
    "# Conectando ao banco de dados\n",
    "try:\n",
    "    conn = psycopg2.connect(conn_string)\n",
    "    print(\"Conexão estabelecida!\")\n",
    "except Exception as e:\n",
    "    print(f\"Não foi possível conectar ao banco de dados: {e}\")"
   ]
  },
  {
   "cell_type": "code",
   "execution_count": 2,
   "metadata": {},
   "outputs": [],
   "source": [
    "#Conectando cursor\n",
    "cur = conn.cursor()"
   ]
  },
  {
   "cell_type": "markdown",
   "metadata": {},
   "source": [
    "### a) Média salarial das mulheres\n",
    "- **SELECT AVG(salario) AS media_salarial**: Calcula a média da coluna `salario`.\n",
    "- **FROM empregado**: Especifica a tabela `empregado` de onde os dados são retirados.\n",
    "- **WHERE sexo = 'F'**: Filtra os resultados para incluir apenas as entradas onde o campo `sexo` é igual a 'F', limitando os dados a empregados do sexo feminino."
   ]
  },
  {
   "cell_type": "code",
   "execution_count": 3,
   "metadata": {},
   "outputs": [
    {
     "name": "stderr",
     "output_type": "stream",
     "text": [
      "C:\\Users\\Ruy\\AppData\\Local\\Temp\\ipykernel_396\\134307248.py:7: UserWarning: pandas only supports SQLAlchemy connectable (engine/connection) or database string URI or sqlite3 DBAPI2 connection. Other DBAPI2 objects are not tested. Please consider using SQLAlchemy.\n",
      "  df_a = pd.read_sql(query_3_a, conn)\n"
     ]
    },
    {
     "data": {
      "text/html": [
       "<div>\n",
       "<style scoped>\n",
       "    .dataframe tbody tr th:only-of-type {\n",
       "        vertical-align: middle;\n",
       "    }\n",
       "\n",
       "    .dataframe tbody tr th {\n",
       "        vertical-align: top;\n",
       "    }\n",
       "\n",
       "    .dataframe thead th {\n",
       "        text-align: right;\n",
       "    }\n",
       "</style>\n",
       "<table border=\"1\" class=\"dataframe\">\n",
       "  <thead>\n",
       "    <tr style=\"text-align: right;\">\n",
       "      <th></th>\n",
       "      <th>media_salarial</th>\n",
       "    </tr>\n",
       "  </thead>\n",
       "  <tbody>\n",
       "    <tr>\n",
       "      <th>0</th>\n",
       "      <td>31000.0</td>\n",
       "    </tr>\n",
       "  </tbody>\n",
       "</table>\n",
       "</div>"
      ],
      "text/plain": [
       "   media_salarial\n",
       "0         31000.0"
      ]
     },
     "execution_count": 3,
     "metadata": {},
     "output_type": "execute_result"
    }
   ],
   "source": [
    "# a) Calculando a média salarial das mulheres\n",
    "query_3_a = \"\"\"\n",
    "SELECT AVG(salario) AS media_salarial\n",
    "FROM empregado\n",
    "WHERE sexo = 'F';\n",
    "\"\"\"\n",
    "df_a = pd.read_sql(query_3_a, conn)\n",
    "df_a"
   ]
  },
  {
   "cell_type": "markdown",
   "metadata": {},
   "source": [
    "### b) Contagem de empregados por supervisor\n",
    "- **SELECT superssn AS supervisor_ssn, COUNT(*) AS numero_de_empregados**: `superssn` é renomeado para `supervisor_ssn` e `COUNT(*)` conta o número total de empregados para cada supervisor.\n",
    "- **FROM empregado**: A consulta é realizada na tabela `empregado`.\n",
    "- **WHERE superssn IS NOT NULL**: Exclui empregados que não têm um supervisor atribuído.\n",
    "- **GROUP BY superssn**: Agrupa os empregados por seu supervisor, o que é essencial para a contagem por grupo."
   ]
  },
  {
   "cell_type": "code",
   "execution_count": 4,
   "metadata": {},
   "outputs": [
    {
     "name": "stderr",
     "output_type": "stream",
     "text": [
      "C:\\Users\\Ruy\\AppData\\Local\\Temp\\ipykernel_396\\3526098916.py:8: UserWarning: pandas only supports SQLAlchemy connectable (engine/connection) or database string URI or sqlite3 DBAPI2 connection. Other DBAPI2 objects are not tested. Please consider using SQLAlchemy.\n",
      "  df_b = pd.read_sql(query_3_b, conn)\n"
     ]
    },
    {
     "data": {
      "text/html": [
       "<div>\n",
       "<style scoped>\n",
       "    .dataframe tbody tr th:only-of-type {\n",
       "        vertical-align: middle;\n",
       "    }\n",
       "\n",
       "    .dataframe tbody tr th {\n",
       "        vertical-align: top;\n",
       "    }\n",
       "\n",
       "    .dataframe thead th {\n",
       "        text-align: right;\n",
       "    }\n",
       "</style>\n",
       "<table border=\"1\" class=\"dataframe\">\n",
       "  <thead>\n",
       "    <tr style=\"text-align: right;\">\n",
       "      <th></th>\n",
       "      <th>supervisor_ssn</th>\n",
       "      <th>numero_de_empregados</th>\n",
       "    </tr>\n",
       "  </thead>\n",
       "  <tbody>\n",
       "    <tr>\n",
       "      <th>0</th>\n",
       "      <td>888665555</td>\n",
       "      <td>4</td>\n",
       "    </tr>\n",
       "    <tr>\n",
       "      <th>1</th>\n",
       "      <td>943775543</td>\n",
       "      <td>1</td>\n",
       "    </tr>\n",
       "    <tr>\n",
       "      <th>2</th>\n",
       "      <td>987654321</td>\n",
       "      <td>1</td>\n",
       "    </tr>\n",
       "    <tr>\n",
       "      <th>3</th>\n",
       "      <td>333445555</td>\n",
       "      <td>3</td>\n",
       "    </tr>\n",
       "  </tbody>\n",
       "</table>\n",
       "</div>"
      ],
      "text/plain": [
       "  supervisor_ssn  numero_de_empregados\n",
       "0      888665555                     4\n",
       "1      943775543                     1\n",
       "2      987654321                     1\n",
       "3      333445555                     3"
      ]
     },
     "execution_count": 4,
     "metadata": {},
     "output_type": "execute_result"
    }
   ],
   "source": [
    "# b) Contando empregados por supervisor\n",
    "query_3_b = \"\"\"\n",
    "SELECT superssn AS supervisor_ssn, COUNT(*) AS numero_de_empregados\n",
    "FROM empregado\n",
    "WHERE superssn IS NOT NULL\n",
    "GROUP BY superssn;\n",
    "\"\"\"\n",
    "df_b = pd.read_sql(query_3_b, conn)\n",
    "df_b\n"
   ]
  },
  {
   "cell_type": "markdown",
   "metadata": {},
   "source": [
    "### c) Máximo de horas trabalhadas\n",
    "- **SELECT MAX(horas) AS max_horas**: Usa a função `MAX` para encontrar o maior valor na coluna `horas`.\n",
    "- **FROM trabalha**: A consulta é realizada na tabela `trabalha`, que supostamente armazena as horas trabalhadas.\n"
   ]
  },
  {
   "cell_type": "code",
   "execution_count": 5,
   "metadata": {},
   "outputs": [
    {
     "name": "stderr",
     "output_type": "stream",
     "text": [
      "C:\\Users\\Ruy\\AppData\\Local\\Temp\\ipykernel_396\\245790553.py:6: UserWarning: pandas only supports SQLAlchemy connectable (engine/connection) or database string URI or sqlite3 DBAPI2 connection. Other DBAPI2 objects are not tested. Please consider using SQLAlchemy.\n",
      "  df_c = pd.read_sql(query_3_c, conn)\n"
     ]
    },
    {
     "data": {
      "text/html": [
       "<div>\n",
       "<style scoped>\n",
       "    .dataframe tbody tr th:only-of-type {\n",
       "        vertical-align: middle;\n",
       "    }\n",
       "\n",
       "    .dataframe tbody tr th {\n",
       "        vertical-align: top;\n",
       "    }\n",
       "\n",
       "    .dataframe thead th {\n",
       "        text-align: right;\n",
       "    }\n",
       "</style>\n",
       "<table border=\"1\" class=\"dataframe\">\n",
       "  <thead>\n",
       "    <tr style=\"text-align: right;\">\n",
       "      <th></th>\n",
       "      <th>max_horas</th>\n",
       "    </tr>\n",
       "  </thead>\n",
       "  <tbody>\n",
       "    <tr>\n",
       "      <th>0</th>\n",
       "      <td>40.0</td>\n",
       "    </tr>\n",
       "  </tbody>\n",
       "</table>\n",
       "</div>"
      ],
      "text/plain": [
       "   max_horas\n",
       "0       40.0"
      ]
     },
     "execution_count": 5,
     "metadata": {},
     "output_type": "execute_result"
    }
   ],
   "source": [
    "# c) Obtendo o máximo de horas trabalhadas\n",
    "query_3_c = \"\"\"\n",
    "SELECT MAX(horas) AS max_horas\n",
    "FROM trabalha;\n",
    "\"\"\"\n",
    "df_c = pd.read_sql(query_3_c, conn)\n",
    "df_c\n"
   ]
  },
  {
   "cell_type": "markdown",
   "metadata": {},
   "source": [
    "### d) Soma das horas por projeto\n",
    "- **SELECT pjnome AS nome_projeto, SUM(horas) AS horas_totais_projeto**: `pjnome` é renomeado para `nome_projeto`, e `SUM(horas)` soma todas as horas trabalhadas por projeto.\n",
    "- **FROM trabalha**: Especifica a tabela `trabalha` onde as horas são registradas.\n",
    "- **JOIN projeto ON trabalha.pno = projeto.pnumero**: Realiza um `JOIN` entre as tabelas `trabalha` e `projeto` usando `pno` e `pnumero` para associar as horas trabalhadas a cada projeto.\n",
    "- **GROUP BY pjnome**: Agrupa os resultados pelo nome do projeto, necessário para a soma das horas por projeto.\n"
   ]
  },
  {
   "cell_type": "code",
   "execution_count": 6,
   "metadata": {},
   "outputs": [
    {
     "name": "stderr",
     "output_type": "stream",
     "text": [
      "C:\\Users\\Ruy\\AppData\\Local\\Temp\\ipykernel_396\\3021259070.py:8: UserWarning: pandas only supports SQLAlchemy connectable (engine/connection) or database string URI or sqlite3 DBAPI2 connection. Other DBAPI2 objects are not tested. Please consider using SQLAlchemy.\n",
      "  df_d = pd.read_sql(query_3_d, conn)\n"
     ]
    },
    {
     "data": {
      "text/html": [
       "<div>\n",
       "<style scoped>\n",
       "    .dataframe tbody tr th:only-of-type {\n",
       "        vertical-align: middle;\n",
       "    }\n",
       "\n",
       "    .dataframe tbody tr th {\n",
       "        vertical-align: top;\n",
       "    }\n",
       "\n",
       "    .dataframe thead th {\n",
       "        text-align: right;\n",
       "    }\n",
       "</style>\n",
       "<table border=\"1\" class=\"dataframe\">\n",
       "  <thead>\n",
       "    <tr style=\"text-align: right;\">\n",
       "      <th></th>\n",
       "      <th>nome_projeto</th>\n",
       "      <th>horas_totais_projeto</th>\n",
       "    </tr>\n",
       "  </thead>\n",
       "  <tbody>\n",
       "    <tr>\n",
       "      <th>0</th>\n",
       "      <td>Automatizacao</td>\n",
       "      <td>40.0</td>\n",
       "    </tr>\n",
       "    <tr>\n",
       "      <th>1</th>\n",
       "      <td>ProdutoZ</td>\n",
       "      <td>40.0</td>\n",
       "    </tr>\n",
       "    <tr>\n",
       "      <th>2</th>\n",
       "      <td>ProdutoY</td>\n",
       "      <td>27.5</td>\n",
       "    </tr>\n",
       "    <tr>\n",
       "      <th>3</th>\n",
       "      <td>Novos Beneficios</td>\n",
       "      <td>55.0</td>\n",
       "    </tr>\n",
       "    <tr>\n",
       "      <th>4</th>\n",
       "      <td>ProdutoX</td>\n",
       "      <td>52.5</td>\n",
       "    </tr>\n",
       "    <tr>\n",
       "      <th>5</th>\n",
       "      <td>Reorganizacao</td>\n",
       "      <td>15.0</td>\n",
       "    </tr>\n",
       "  </tbody>\n",
       "</table>\n",
       "</div>"
      ],
      "text/plain": [
       "       nome_projeto  horas_totais_projeto\n",
       "0     Automatizacao                  40.0\n",
       "1          ProdutoZ                  40.0\n",
       "2          ProdutoY                  27.5\n",
       "3  Novos Beneficios                  55.0\n",
       "4          ProdutoX                  52.5\n",
       "5     Reorganizacao                  15.0"
      ]
     },
     "execution_count": 6,
     "metadata": {},
     "output_type": "execute_result"
    }
   ],
   "source": [
    "# d) Soma de horas trabalhadas por projeto\n",
    "query_3_d = \"\"\"\n",
    "SELECT pjnome AS nome_projeto, SUM(horas) AS horas_totais_projeto\n",
    "FROM trabalha\n",
    "JOIN projeto ON trabalha.pno = projeto.pnumero\n",
    "GROUP BY pjnome;\n",
    "\"\"\"\n",
    "df_d = pd.read_sql(query_3_d, conn)\n",
    "df_d\n"
   ]
  },
  {
   "cell_type": "markdown",
   "metadata": {},
   "source": [
    "### e) Média salarial por departamento\n",
    "- **SELECT d.dnome AS nome_departamento, AVG(e.salario) AS media_salarial**: `d.dnome` é renomeado para `nome_departamento`, e `AVG(e.salario)` calcula a média salarial por departamento.\n",
    "- **FROM empregado e**: Especifica a tabela `empregado` com um alias `e`.\n",
    "- **JOIN departamento d ON e.dno = d.dnumero**: Conecta `empregado` a `departamento` usando a chave estrangeira `dno` para agrupar os salários por departamento.\n",
    "- **GROUP BY d.dnome**: Agrupa os resultados pelo nome do departamento, necessário para calcular a média por cada um.\n"
   ]
  },
  {
   "cell_type": "code",
   "execution_count": 7,
   "metadata": {},
   "outputs": [
    {
     "name": "stderr",
     "output_type": "stream",
     "text": [
      "C:\\Users\\Ruy\\AppData\\Local\\Temp\\ipykernel_396\\1574209723.py:8: UserWarning: pandas only supports SQLAlchemy connectable (engine/connection) or database string URI or sqlite3 DBAPI2 connection. Other DBAPI2 objects are not tested. Please consider using SQLAlchemy.\n",
      "  df_e = pd.read_sql(query_3_e, conn)\n"
     ]
    },
    {
     "data": {
      "text/html": [
       "<div>\n",
       "<style scoped>\n",
       "    .dataframe tbody tr th:only-of-type {\n",
       "        vertical-align: middle;\n",
       "    }\n",
       "\n",
       "    .dataframe tbody tr th {\n",
       "        vertical-align: top;\n",
       "    }\n",
       "\n",
       "    .dataframe thead th {\n",
       "        text-align: right;\n",
       "    }\n",
       "</style>\n",
       "<table border=\"1\" class=\"dataframe\">\n",
       "  <thead>\n",
       "    <tr style=\"text-align: right;\">\n",
       "      <th></th>\n",
       "      <th>nome_departamento</th>\n",
       "      <th>media_salarial</th>\n",
       "    </tr>\n",
       "  </thead>\n",
       "  <tbody>\n",
       "    <tr>\n",
       "      <th>0</th>\n",
       "      <td>Administracao</td>\n",
       "      <td>31000.0</td>\n",
       "    </tr>\n",
       "    <tr>\n",
       "      <th>1</th>\n",
       "      <td>Pesquisa</td>\n",
       "      <td>33250.0</td>\n",
       "    </tr>\n",
       "    <tr>\n",
       "      <th>2</th>\n",
       "      <td>Sede Administrativa</td>\n",
       "      <td>57000.0</td>\n",
       "    </tr>\n",
       "  </tbody>\n",
       "</table>\n",
       "</div>"
      ],
      "text/plain": [
       "     nome_departamento  media_salarial\n",
       "0        Administracao         31000.0\n",
       "1             Pesquisa         33250.0\n",
       "2  Sede Administrativa         57000.0"
      ]
     },
     "execution_count": 7,
     "metadata": {},
     "output_type": "execute_result"
    }
   ],
   "source": [
    "# e) Média salarial por departamento\n",
    "query_3_e = \"\"\"\n",
    "SELECT d.dnome AS nome_departamento, AVG(e.salario) AS media_salarial\n",
    "FROM empregado e\n",
    "JOIN departamento d ON e.dno = d.dnumero\n",
    "GROUP BY d.dnome;\n",
    "\"\"\"\n",
    "df_e = pd.read_sql(query_3_e, conn)\n",
    "df_e\n"
   ]
  },
  {
   "cell_type": "markdown",
   "metadata": {},
   "source": [
    "### f) Empregados com dois ou mais dependentes\n",
    "- **SELECT e.pnome, e.unome**: Seleciona o primeiro nome e o sobrenome do empregado.\n",
    "- **FROM empregado e**: Consulta a partir da tabela `empregado` com o alias `e`.\n",
    "- **JOIN dependente d ON e.ssn = d.essn**: Realiza um `JOIN` entre `empregado` e `dependente` usando o `ssn` do empregado e `essn` do dependente.\n",
    "- **GROUP BY e.ssn, e.pnome, e.unome**: Agrupa os resultados por `ssn`, `pnome` e `unome` para garantir que a contagem de dependentes seja correta.\n",
    "- **HAVING COUNT(d.essn) >= 2**: Filtra os empregados que têm dois ou mais dependentes, usando `HAVING` para aplicar condições após o agrupamento."
   ]
  },
  {
   "cell_type": "code",
   "execution_count": 8,
   "metadata": {},
   "outputs": [
    {
     "name": "stderr",
     "output_type": "stream",
     "text": [
      "C:\\Users\\Ruy\\AppData\\Local\\Temp\\ipykernel_396\\1338378611.py:9: UserWarning: pandas only supports SQLAlchemy connectable (engine/connection) or database string URI or sqlite3 DBAPI2 connection. Other DBAPI2 objects are not tested. Please consider using SQLAlchemy.\n",
      "  df_f = pd.read_sql(query_3_f, conn)\n"
     ]
    },
    {
     "data": {
      "text/html": [
       "<div>\n",
       "<style scoped>\n",
       "    .dataframe tbody tr th:only-of-type {\n",
       "        vertical-align: middle;\n",
       "    }\n",
       "\n",
       "    .dataframe tbody tr th {\n",
       "        vertical-align: top;\n",
       "    }\n",
       "\n",
       "    .dataframe thead th {\n",
       "        text-align: right;\n",
       "    }\n",
       "</style>\n",
       "<table border=\"1\" class=\"dataframe\">\n",
       "  <thead>\n",
       "    <tr style=\"text-align: right;\">\n",
       "      <th></th>\n",
       "      <th>pnome</th>\n",
       "      <th>unome</th>\n",
       "    </tr>\n",
       "  </thead>\n",
       "  <tbody>\n",
       "    <tr>\n",
       "      <th>0</th>\n",
       "      <td>Joao</td>\n",
       "      <td>Souza</td>\n",
       "    </tr>\n",
       "    <tr>\n",
       "      <th>1</th>\n",
       "      <td>Fabio</td>\n",
       "      <td>Will</td>\n",
       "    </tr>\n",
       "  </tbody>\n",
       "</table>\n",
       "</div>"
      ],
      "text/plain": [
       "   pnome  unome\n",
       "0   Joao  Souza\n",
       "1  Fabio   Will"
      ]
     },
     "execution_count": 8,
     "metadata": {},
     "output_type": "execute_result"
    }
   ],
   "source": [
    "# f) Empregados com dois ou mais dependentes\n",
    "query_3_f = \"\"\"\n",
    "SELECT e.pnome, e.unome\n",
    "FROM empregado e\n",
    "JOIN dependente d ON e.ssn = d.essn\n",
    "GROUP BY e.ssn, e.pnome, e.unome\n",
    "HAVING COUNT(d.essn) >= 2;\n",
    "\"\"\"\n",
    "df_f = pd.read_sql(query_3_f, conn)\n",
    "df_f\n"
   ]
  },
  {
   "cell_type": "markdown",
   "metadata": {},
   "source": [
    "### g) Departamento com o menor número de projetos\n",
    "- **SELECT d.dnome AS nome_departamento, COUNT(p.pnumero) AS num_projetos**: `d.dnome` é renomeado para `nome_departamento`, e `COUNT(p.pnumero)` conta o número de projetos associados a cada departamento.\n",
    "- **FROM departamento d**: Especifica a tabela `departamento` com um alias `d`.\n",
    "- **JOIN projeto p ON d.dnumero = p.dnum**: Realiza um `JOIN` entre as tabelas `departamento` e `projeto` usando `dnumero` e `dnum` para relacionar cada departamento com os projetos que gerencia.\n",
    "- **GROUP BY d.dnome**: Agrupa os resultados pelo nome do departamento, necessário para contar os projetos por departamento.\n",
    "- **ORDER BY num_projetos ASC**: Ordena os departamentos pelo número de projetos de forma ascendente.\n",
    "- **LIMIT 1**: Limita o resultado ao primeiro registro, que será o departamento com o menor número de projetos."
   ]
  },
  {
   "cell_type": "code",
   "execution_count": 9,
   "metadata": {},
   "outputs": [
    {
     "name": "stderr",
     "output_type": "stream",
     "text": [
      "C:\\Users\\Ruy\\AppData\\Local\\Temp\\ipykernel_396\\2167505192.py:10: UserWarning: pandas only supports SQLAlchemy connectable (engine/connection) or database string URI or sqlite3 DBAPI2 connection. Other DBAPI2 objects are not tested. Please consider using SQLAlchemy.\n",
      "  df_g = pd.read_sql(query_3_g, conn)\n"
     ]
    },
    {
     "data": {
      "text/html": [
       "<div>\n",
       "<style scoped>\n",
       "    .dataframe tbody tr th:only-of-type {\n",
       "        vertical-align: middle;\n",
       "    }\n",
       "\n",
       "    .dataframe tbody tr th {\n",
       "        vertical-align: top;\n",
       "    }\n",
       "\n",
       "    .dataframe thead th {\n",
       "        text-align: right;\n",
       "    }\n",
       "</style>\n",
       "<table border=\"1\" class=\"dataframe\">\n",
       "  <thead>\n",
       "    <tr style=\"text-align: right;\">\n",
       "      <th></th>\n",
       "      <th>nome_departamento</th>\n",
       "      <th>num_projetos</th>\n",
       "    </tr>\n",
       "  </thead>\n",
       "  <tbody>\n",
       "    <tr>\n",
       "      <th>0</th>\n",
       "      <td>Sede Administrativa</td>\n",
       "      <td>1</td>\n",
       "    </tr>\n",
       "  </tbody>\n",
       "</table>\n",
       "</div>"
      ],
      "text/plain": [
       "     nome_departamento  num_projetos\n",
       "0  Sede Administrativa             1"
      ]
     },
     "execution_count": 9,
     "metadata": {},
     "output_type": "execute_result"
    }
   ],
   "source": [
    "# g) Departamento com o menor número de projetos\n",
    "query_3_g = \"\"\"\n",
    "SELECT d.dnome AS nome_departamento, COUNT(p.pnumero) AS num_projetos\n",
    "FROM departamento d\n",
    "JOIN projeto p ON d.dnumero = p.dnum\n",
    "GROUP BY d.dnome\n",
    "ORDER BY num_projetos ASC\n",
    "LIMIT 1;\n",
    "\"\"\"\n",
    "df_g = pd.read_sql(query_3_g, conn)\n",
    "df_g"
   ]
  },
  {
   "cell_type": "markdown",
   "metadata": {},
   "source": [
    "### h) Extrair substring do endereço\n",
    "- **SELECT SUBSTRING(endereco, 10, 13) AS parte_endereco**: Usa a função `SUBSTRING` para extrair uma parte específica do endereço começando do décimo caractere e pegando os próximos 13 caracteres, pois até (-1) no caso 12.\n",
    "- **FROM empregado**: A consulta é realizada na tabela `empregado`, que armazena os endereços dos empregados."
   ]
  },
  {
   "cell_type": "code",
   "execution_count": 10,
   "metadata": {},
   "outputs": [
    {
     "name": "stderr",
     "output_type": "stream",
     "text": [
      "C:\\Users\\Ruy\\AppData\\Local\\Temp\\ipykernel_396\\1315259870.py:6: UserWarning: pandas only supports SQLAlchemy connectable (engine/connection) or database string URI or sqlite3 DBAPI2 connection. Other DBAPI2 objects are not tested. Please consider using SQLAlchemy.\n",
      "  df_h = pd.read_sql(query_3_h, conn)\n"
     ]
    },
    {
     "data": {
      "text/html": [
       "<div>\n",
       "<style scoped>\n",
       "    .dataframe tbody tr th:only-of-type {\n",
       "        vertical-align: middle;\n",
       "    }\n",
       "\n",
       "    .dataframe tbody tr th {\n",
       "        vertical-align: top;\n",
       "    }\n",
       "\n",
       "    .dataframe thead th {\n",
       "        text-align: right;\n",
       "    }\n",
       "</style>\n",
       "<table border=\"1\" class=\"dataframe\">\n",
       "  <thead>\n",
       "    <tr style=\"text-align: right;\">\n",
       "      <th></th>\n",
       "      <th>parte_endereco</th>\n",
       "    </tr>\n",
       "  </thead>\n",
       "  <tbody>\n",
       "    <tr>\n",
       "      <th>0</th>\n",
       "      <td>maio, 1500 -</td>\n",
       "    </tr>\n",
       "    <tr>\n",
       "      <th>1</th>\n",
       "      <td>s, 325 - Curi</td>\n",
       "    </tr>\n",
       "    <tr>\n",
       "      <th>2</th>\n",
       "      <td>291 - Colomb</td>\n",
       "    </tr>\n",
       "    <tr>\n",
       "      <th>3</th>\n",
       "      <td>ira, 55 - Alm</td>\n",
       "    </tr>\n",
       "    <tr>\n",
       "      <th>4</th>\n",
       "      <td>Lapa, 23 - Cu</td>\n",
       "    </tr>\n",
       "    <tr>\n",
       "      <th>5</th>\n",
       "      <td>1245 - Curit</td>\n",
       "    </tr>\n",
       "    <tr>\n",
       "      <th>6</th>\n",
       "      <td>450 - Curiti</td>\n",
       "    </tr>\n",
       "    <tr>\n",
       "      <th>7</th>\n",
       "      <td>– Araucária</td>\n",
       "    </tr>\n",
       "    <tr>\n",
       "      <th>8</th>\n",
       "      <td>a, 98 - Pinha</td>\n",
       "    </tr>\n",
       "    <tr>\n",
       "      <th>9</th>\n",
       "      <td>– Araucária</td>\n",
       "    </tr>\n",
       "  </tbody>\n",
       "</table>\n",
       "</div>"
      ],
      "text/plain": [
       "  parte_endereco\n",
       "0  maio, 1500 - \n",
       "1  s, 325 - Curi\n",
       "2   291 - Colomb\n",
       "3  ira, 55 - Alm\n",
       "4  Lapa, 23 - Cu\n",
       "5   1245 - Curit\n",
       "6   450 - Curiti\n",
       "7   – Araucária \n",
       "8  a, 98 - Pinha\n",
       "9   – Araucária "
      ]
     },
     "execution_count": 10,
     "metadata": {},
     "output_type": "execute_result"
    }
   ],
   "source": [
    "# h) Extrair substring do endereço\n",
    "query_3_h = \"\"\"\n",
    "SELECT SUBSTRING(endereco, 10, 13) AS parte_endereco\n",
    "FROM empregado;\n",
    "\"\"\"\n",
    "df_h = pd.read_sql(query_3_h, conn)\n",
    "df_h"
   ]
  },
  {
   "cell_type": "markdown",
   "metadata": {},
   "source": [
    "### i) Extrair mês do nascimento\n",
    "- **SELECT EXTRACT(MONTH FROM datanasc) AS mes_nascimento**: Utiliza a função `EXTRACT` para obter o mês da data de nascimento dos empregados.\n",
    "- **FROM empregado**: A consulta é realizada na tabela `empregado`, que contém as datas de nascimento."
   ]
  },
  {
   "cell_type": "code",
   "execution_count": 11,
   "metadata": {},
   "outputs": [
    {
     "name": "stderr",
     "output_type": "stream",
     "text": [
      "C:\\Users\\Ruy\\AppData\\Local\\Temp\\ipykernel_396\\114229543.py:6: UserWarning: pandas only supports SQLAlchemy connectable (engine/connection) or database string URI or sqlite3 DBAPI2 connection. Other DBAPI2 objects are not tested. Please consider using SQLAlchemy.\n",
      "  df_i = pd.read_sql(query_3_i, conn)\n"
     ]
    },
    {
     "data": {
      "text/html": [
       "<div>\n",
       "<style scoped>\n",
       "    .dataframe tbody tr th:only-of-type {\n",
       "        vertical-align: middle;\n",
       "    }\n",
       "\n",
       "    .dataframe tbody tr th {\n",
       "        vertical-align: top;\n",
       "    }\n",
       "\n",
       "    .dataframe thead th {\n",
       "        text-align: right;\n",
       "    }\n",
       "</style>\n",
       "<table border=\"1\" class=\"dataframe\">\n",
       "  <thead>\n",
       "    <tr style=\"text-align: right;\">\n",
       "      <th></th>\n",
       "      <th>mes_nascimento</th>\n",
       "    </tr>\n",
       "  </thead>\n",
       "  <tbody>\n",
       "    <tr>\n",
       "      <th>0</th>\n",
       "      <td>1.0</td>\n",
       "    </tr>\n",
       "    <tr>\n",
       "      <th>1</th>\n",
       "      <td>12.0</td>\n",
       "    </tr>\n",
       "    <tr>\n",
       "      <th>2</th>\n",
       "      <td>6.0</td>\n",
       "    </tr>\n",
       "    <tr>\n",
       "      <th>3</th>\n",
       "      <td>9.0</td>\n",
       "    </tr>\n",
       "    <tr>\n",
       "      <th>4</th>\n",
       "      <td>7.0</td>\n",
       "    </tr>\n",
       "    <tr>\n",
       "      <th>5</th>\n",
       "      <td>3.0</td>\n",
       "    </tr>\n",
       "    <tr>\n",
       "      <th>6</th>\n",
       "      <td>11.0</td>\n",
       "    </tr>\n",
       "    <tr>\n",
       "      <th>7</th>\n",
       "      <td>6.0</td>\n",
       "    </tr>\n",
       "    <tr>\n",
       "      <th>8</th>\n",
       "      <td>1.0</td>\n",
       "    </tr>\n",
       "    <tr>\n",
       "      <th>9</th>\n",
       "      <td>6.0</td>\n",
       "    </tr>\n",
       "  </tbody>\n",
       "</table>\n",
       "</div>"
      ],
      "text/plain": [
       "   mes_nascimento\n",
       "0             1.0\n",
       "1            12.0\n",
       "2             6.0\n",
       "3             9.0\n",
       "4             7.0\n",
       "5             3.0\n",
       "6            11.0\n",
       "7             6.0\n",
       "8             1.0\n",
       "9             6.0"
      ]
     },
     "execution_count": 11,
     "metadata": {},
     "output_type": "execute_result"
    }
   ],
   "source": [
    "# i) Extrair mês do nascimento\n",
    "query_3_i = \"\"\"\n",
    "SELECT EXTRACT(MONTH FROM datanasc) AS mes_nascimento\n",
    "FROM empregado;\n",
    "\"\"\"\n",
    "df_i = pd.read_sql(query_3_i, conn)\n",
    "df_i"
   ]
  },
  {
   "cell_type": "markdown",
   "metadata": {},
   "source": [
    "### j) Idade do empregado na nascença do dependente\n",
    "- **SELECT e.pnome, e.unome, d.nomedep, EXTRACT(YEAR FROM d.datanascdep) - EXTRACT(YEAR FROM e.datanasc) AS idade_na_nascenca_do_filho**: Seleciona os nomes do empregado e do dependente, e calcula a idade do empregado no momento do nascimento do dependente usando a função `EXTRACT`.\n",
    "- **FROM empregado e**: Consulta a partir da tabela `empregado` com um alias `e`.\n",
    "- **JOIN dependente d ON e.ssn = d.essn**: Realiza um `JOIN` entre as tabelas `empregado` e `dependente`, associando cada empregado a seus dependentes.\n",
    "- **WHERE d.parentesco IN ('FILHO', 'FILHA')**: Filtra os dependentes para incluir apenas aqueles que são filhos ou filhas do empregado."
   ]
  },
  {
   "cell_type": "code",
   "execution_count": 12,
   "metadata": {},
   "outputs": [
    {
     "name": "stderr",
     "output_type": "stream",
     "text": [
      "C:\\Users\\Ruy\\AppData\\Local\\Temp\\ipykernel_396\\670829966.py:8: UserWarning: pandas only supports SQLAlchemy connectable (engine/connection) or database string URI or sqlite3 DBAPI2 connection. Other DBAPI2 objects are not tested. Please consider using SQLAlchemy.\n",
      "  df_j = pd.read_sql(query_3_j, conn)\n"
     ]
    },
    {
     "data": {
      "text/html": [
       "<div>\n",
       "<style scoped>\n",
       "    .dataframe tbody tr th:only-of-type {\n",
       "        vertical-align: middle;\n",
       "    }\n",
       "\n",
       "    .dataframe tbody tr th {\n",
       "        vertical-align: top;\n",
       "    }\n",
       "\n",
       "    .dataframe thead th {\n",
       "        text-align: right;\n",
       "    }\n",
       "</style>\n",
       "<table border=\"1\" class=\"dataframe\">\n",
       "  <thead>\n",
       "    <tr style=\"text-align: right;\">\n",
       "      <th></th>\n",
       "      <th>pnome</th>\n",
       "      <th>unome</th>\n",
       "      <th>nomedep</th>\n",
       "      <th>idade_na_nascenca_do_filho</th>\n",
       "    </tr>\n",
       "  </thead>\n",
       "  <tbody>\n",
       "    <tr>\n",
       "      <th>0</th>\n",
       "      <td>Joao</td>\n",
       "      <td>Souza</td>\n",
       "      <td>Alice</td>\n",
       "      <td>23.0</td>\n",
       "    </tr>\n",
       "    <tr>\n",
       "      <th>1</th>\n",
       "      <td>Joao</td>\n",
       "      <td>Souza</td>\n",
       "      <td>Michel</td>\n",
       "      <td>23.0</td>\n",
       "    </tr>\n",
       "    <tr>\n",
       "      <th>2</th>\n",
       "      <td>Fabio</td>\n",
       "      <td>Will</td>\n",
       "      <td>Teodoro</td>\n",
       "      <td>28.0</td>\n",
       "    </tr>\n",
       "    <tr>\n",
       "      <th>3</th>\n",
       "      <td>Fabio</td>\n",
       "      <td>Will</td>\n",
       "      <td>Alice</td>\n",
       "      <td>31.0</td>\n",
       "    </tr>\n",
       "  </tbody>\n",
       "</table>\n",
       "</div>"
      ],
      "text/plain": [
       "   pnome  unome  nomedep  idade_na_nascenca_do_filho\n",
       "0   Joao  Souza    Alice                        23.0\n",
       "1   Joao  Souza   Michel                        23.0\n",
       "2  Fabio   Will  Teodoro                        28.0\n",
       "3  Fabio   Will    Alice                        31.0"
      ]
     },
     "execution_count": 12,
     "metadata": {},
     "output_type": "execute_result"
    }
   ],
   "source": [
    "# j) Idade do empregado na nascença do dependente\n",
    "query_3_j = \"\"\"\n",
    "SELECT e.pnome, e.unome, d.nomedep, EXTRACT(YEAR FROM d.datanascdep) - EXTRACT(YEAR FROM e.datanasc) AS idade_na_nascenca_do_filho\n",
    "FROM empregado e\n",
    "JOIN dependente d ON e.ssn = d.essn\n",
    "WHERE d.parentesco IN ('FILHO', 'FILHA');\n",
    "\"\"\"\n",
    "df_j = pd.read_sql(query_3_j, conn)\n",
    "df_j"
   ]
  },
  {
   "cell_type": "markdown",
   "metadata": {},
   "source": [
    "### k) Número de dependentes por ano de nascimento\n",
    "- **SELECT EXTRACT(YEAR FROM datanascdep) AS ano_nascimento, COUNT(*) AS numero_dependentes**: Utiliza a função `EXTRACT` para obter o ano de nascimento dos dependentes e `COUNT(*)` para contar quantos dependentes nasceram em cada ano.\n",
    "- **FROM dependente**: A consulta é realizada na tabela `dependente`.\n",
    "- **GROUP BY EXTRACT(YEAR FROM datanascdep)**: Agrupa os resultados pelo ano de nascimento dos dependentes.\n",
    "- **ORDER BY ano_nascimento**: Ordena os resultados pelo ano de nascimento em ordem ascendente."
   ]
  },
  {
   "cell_type": "code",
   "execution_count": 13,
   "metadata": {},
   "outputs": [
    {
     "name": "stderr",
     "output_type": "stream",
     "text": [
      "C:\\Users\\Ruy\\AppData\\Local\\Temp\\ipykernel_396\\134580009.py:8: UserWarning: pandas only supports SQLAlchemy connectable (engine/connection) or database string URI or sqlite3 DBAPI2 connection. Other DBAPI2 objects are not tested. Please consider using SQLAlchemy.\n",
      "  df_k = pd.read_sql(query_3_k, conn)\n"
     ]
    },
    {
     "data": {
      "text/html": [
       "<div>\n",
       "<style scoped>\n",
       "    .dataframe tbody tr th:only-of-type {\n",
       "        vertical-align: middle;\n",
       "    }\n",
       "\n",
       "    .dataframe tbody tr th {\n",
       "        vertical-align: top;\n",
       "    }\n",
       "\n",
       "    .dataframe thead th {\n",
       "        text-align: right;\n",
       "    }\n",
       "</style>\n",
       "<table border=\"1\" class=\"dataframe\">\n",
       "  <thead>\n",
       "    <tr style=\"text-align: right;\">\n",
       "      <th></th>\n",
       "      <th>ano_nascimento</th>\n",
       "      <th>numero_dependentes</th>\n",
       "    </tr>\n",
       "  </thead>\n",
       "  <tbody>\n",
       "    <tr>\n",
       "      <th>0</th>\n",
       "      <td>1942.0</td>\n",
       "      <td>1</td>\n",
       "    </tr>\n",
       "    <tr>\n",
       "      <th>1</th>\n",
       "      <td>1958.0</td>\n",
       "      <td>1</td>\n",
       "    </tr>\n",
       "    <tr>\n",
       "      <th>2</th>\n",
       "      <td>1967.0</td>\n",
       "      <td>1</td>\n",
       "    </tr>\n",
       "    <tr>\n",
       "      <th>3</th>\n",
       "      <td>1970.0</td>\n",
       "      <td>1</td>\n",
       "    </tr>\n",
       "    <tr>\n",
       "      <th>4</th>\n",
       "      <td>1983.0</td>\n",
       "      <td>1</td>\n",
       "    </tr>\n",
       "    <tr>\n",
       "      <th>5</th>\n",
       "      <td>1986.0</td>\n",
       "      <td>1</td>\n",
       "    </tr>\n",
       "    <tr>\n",
       "      <th>6</th>\n",
       "      <td>1988.0</td>\n",
       "      <td>2</td>\n",
       "    </tr>\n",
       "  </tbody>\n",
       "</table>\n",
       "</div>"
      ],
      "text/plain": [
       "   ano_nascimento  numero_dependentes\n",
       "0          1942.0                   1\n",
       "1          1958.0                   1\n",
       "2          1967.0                   1\n",
       "3          1970.0                   1\n",
       "4          1983.0                   1\n",
       "5          1986.0                   1\n",
       "6          1988.0                   2"
      ]
     },
     "execution_count": 13,
     "metadata": {},
     "output_type": "execute_result"
    }
   ],
   "source": [
    "# k) Número de dependentes por ano de nascimento\n",
    "query_3_k = \"\"\"\n",
    "SELECT EXTRACT(YEAR FROM datanascdep) AS ano_nascimento, COUNT(*) AS numero_dependentes\n",
    "FROM dependente\n",
    "GROUP BY EXTRACT(YEAR FROM datanascdep)\n",
    "ORDER BY ano_nascimento;\n",
    "\"\"\"\n",
    "df_k = pd.read_sql(query_3_k, conn)\n",
    "df_k"
   ]
  },
  {
   "cell_type": "markdown",
   "metadata": {},
   "source": [
    "### l) Supervisores com pelo menos dois empregados\n",
    "- **SELECT e.pnome, e.unome**: Seleciona o primeiro nome e o sobrenome do empregado que é supervisor.\n",
    "- **FROM empregado e**: Consulta a partir da tabela `empregado` com um alias `e`.\n",
    "- **JOIN empregado supervisado ON e.ssn = supervisado.superssn**: Realiza um `JOIN` entre a tabela `empregado` consigo mesma para associar supervisores aos seus supervisados.\n",
    "- **GROUP BY e.ssn, e.pnome, e.unome**: Agrupa os resultados por supervisor, garantindo que a contagem de supervisados seja realizada para cada supervisor individualmente.\n",
    "- **HAVING COUNT(supervisado.ssn) >= 2**: Filtra os resultados para incluir apenas os supervisores que têm dois ou mais empregados supervisionados."
   ]
  },
  {
   "cell_type": "code",
   "execution_count": 14,
   "metadata": {},
   "outputs": [
    {
     "name": "stderr",
     "output_type": "stream",
     "text": [
      "C:\\Users\\Ruy\\AppData\\Local\\Temp\\ipykernel_396\\737698328.py:9: UserWarning: pandas only supports SQLAlchemy connectable (engine/connection) or database string URI or sqlite3 DBAPI2 connection. Other DBAPI2 objects are not tested. Please consider using SQLAlchemy.\n",
      "  df_l = pd.read_sql(query_3_l, conn)\n"
     ]
    },
    {
     "data": {
      "text/html": [
       "<div>\n",
       "<style scoped>\n",
       "    .dataframe tbody tr th:only-of-type {\n",
       "        vertical-align: middle;\n",
       "    }\n",
       "\n",
       "    .dataframe tbody tr th {\n",
       "        vertical-align: top;\n",
       "    }\n",
       "\n",
       "    .dataframe thead th {\n",
       "        text-align: right;\n",
       "    }\n",
       "</style>\n",
       "<table border=\"1\" class=\"dataframe\">\n",
       "  <thead>\n",
       "    <tr style=\"text-align: right;\">\n",
       "      <th></th>\n",
       "      <th>pnome</th>\n",
       "      <th>unome</th>\n",
       "    </tr>\n",
       "  </thead>\n",
       "  <tbody>\n",
       "    <tr>\n",
       "      <th>0</th>\n",
       "      <td>Joaquim</td>\n",
       "      <td>Brito</td>\n",
       "    </tr>\n",
       "    <tr>\n",
       "      <th>1</th>\n",
       "      <td>Fabio</td>\n",
       "      <td>Will</td>\n",
       "    </tr>\n",
       "  </tbody>\n",
       "</table>\n",
       "</div>"
      ],
      "text/plain": [
       "     pnome  unome\n",
       "0  Joaquim  Brito\n",
       "1    Fabio   Will"
      ]
     },
     "execution_count": 14,
     "metadata": {},
     "output_type": "execute_result"
    }
   ],
   "source": [
    "# l) Supervisores com pelo menos dois empregados\n",
    "query_3_l = \"\"\"\n",
    "SELECT e.pnome, e.unome\n",
    "FROM empregado e\n",
    "JOIN empregado supervisado ON e.ssn = supervisado.superssn\n",
    "GROUP BY e.ssn, e.pnome, e.unome\n",
    "HAVING COUNT(supervisado.ssn) >= 2;\n",
    "\"\"\"\n",
    "df_l = pd.read_sql(query_3_l, conn)\n",
    "df_l"
   ]
  },
  {
   "cell_type": "markdown",
   "metadata": {},
   "source": [
    "### m) Valor mensal por projeto\n",
    "- **SELECT p.pjnome AS nome_projeto, SUM(e.salario) AS valor_mensal**: `p.pjnome` é renomeado para `nome_projeto`, e `SUM(e.salario)` calcula a soma dos salários de todos os empregados que trabalham em cada projeto.\n",
    "- **FROM trabalha t**: Especifica a tabela `trabalha` com um alias `t`.\n",
    "- **JOIN empregado e ON t.essn = e.ssn**: Realiza um `JOIN` entre as tabelas `trabalha` e `empregado` para associar as horas trabalhadas ao salário dos empregados.\n",
    "- **JOIN projeto p ON t.pno = p.pnumero**: Realiza outro `JOIN` entre as tabelas `trabalha` e `projeto` para associar as horas trabalhadas ao projeto correspondente.\n",
    "- **GROUP BY p.pjnome**: Agrupa os resultados por nome do projeto, necessário para calcular o valor mensal total para cada projeto."
   ]
  },
  {
   "cell_type": "code",
   "execution_count": 15,
   "metadata": {},
   "outputs": [
    {
     "name": "stderr",
     "output_type": "stream",
     "text": [
      "C:\\Users\\Ruy\\AppData\\Local\\Temp\\ipykernel_396\\2185216544.py:9: UserWarning: pandas only supports SQLAlchemy connectable (engine/connection) or database string URI or sqlite3 DBAPI2 connection. Other DBAPI2 objects are not tested. Please consider using SQLAlchemy.\n",
      "  df_m = pd.read_sql(query_3_m, conn)\n"
     ]
    },
    {
     "data": {
      "text/html": [
       "<div>\n",
       "<style scoped>\n",
       "    .dataframe tbody tr th:only-of-type {\n",
       "        vertical-align: middle;\n",
       "    }\n",
       "\n",
       "    .dataframe tbody tr th {\n",
       "        vertical-align: top;\n",
       "    }\n",
       "\n",
       "    .dataframe thead th {\n",
       "        text-align: right;\n",
       "    }\n",
       "</style>\n",
       "<table border=\"1\" class=\"dataframe\">\n",
       "  <thead>\n",
       "    <tr style=\"text-align: right;\">\n",
       "      <th></th>\n",
       "      <th>nome_projeto</th>\n",
       "      <th>valor_mensal</th>\n",
       "    </tr>\n",
       "  </thead>\n",
       "  <tbody>\n",
       "    <tr>\n",
       "      <th>0</th>\n",
       "      <td>Automatizacao</td>\n",
       "      <td>50000.0</td>\n",
       "    </tr>\n",
       "    <tr>\n",
       "      <th>1</th>\n",
       "      <td>ProdutoZ</td>\n",
       "      <td>38000.0</td>\n",
       "    </tr>\n",
       "    <tr>\n",
       "      <th>2</th>\n",
       "      <td>ProdutoY</td>\n",
       "      <td>55000.0</td>\n",
       "    </tr>\n",
       "    <tr>\n",
       "      <th>3</th>\n",
       "      <td>Novos Beneficios</td>\n",
       "      <td>93000.0</td>\n",
       "    </tr>\n",
       "    <tr>\n",
       "      <th>4</th>\n",
       "      <td>ProdutoX</td>\n",
       "      <td>55000.0</td>\n",
       "    </tr>\n",
       "    <tr>\n",
       "      <th>5</th>\n",
       "      <td>Reorganizacao</td>\n",
       "      <td>98000.0</td>\n",
       "    </tr>\n",
       "  </tbody>\n",
       "</table>\n",
       "</div>"
      ],
      "text/plain": [
       "       nome_projeto  valor_mensal\n",
       "0     Automatizacao       50000.0\n",
       "1          ProdutoZ       38000.0\n",
       "2          ProdutoY       55000.0\n",
       "3  Novos Beneficios       93000.0\n",
       "4          ProdutoX       55000.0\n",
       "5     Reorganizacao       98000.0"
      ]
     },
     "execution_count": 15,
     "metadata": {},
     "output_type": "execute_result"
    }
   ],
   "source": [
    "# m) Valor mensal por projeto\n",
    "query_3_m = \"\"\"\n",
    "SELECT p.pjnome AS nome_projeto, SUM(e.salario) AS valor_mensal\n",
    "FROM trabalha t\n",
    "JOIN empregado e ON t.essn = e.ssn\n",
    "JOIN projeto p ON t.pno = p.pnumero\n",
    "GROUP BY p.pjnome;\n",
    "\"\"\"\n",
    "df_m = pd.read_sql(query_3_m, conn)\n",
    "df_m"
   ]
  },
  {
   "cell_type": "markdown",
   "metadata": {},
   "source": [
    "### Query 4a\n",
    "- **SELECT e.pnome, e.unome**: Seleciona o primeiro nome e o sobrenome dos empregados.\n",
    "- **FROM empregado e**: Define a tabela `empregado` como a fonte dos dados com o alias `e`.\n",
    "- **WHERE e.ssn IN (...)**: Filtra os empregados cujo número de segurança social (`ssn`) está na lista retornada pela subconsulta.\n",
    "- **Subconsulta**:\n",
    "  - **SELECT d.essn FROM dependente d**: Seleciona os `essn` de dependentes.\n",
    "  - **WHERE d.nomedep = e.pnome AND d.sexodep = e.sexo**: Filtra dependentes que têm o mesmo nome e sexo que o empregado."
   ]
  },
  {
   "cell_type": "code",
   "execution_count": 16,
   "metadata": {},
   "outputs": [
    {
     "name": "stderr",
     "output_type": "stream",
     "text": [
      "C:\\Users\\Ruy\\AppData\\Local\\Temp\\ipykernel_396\\3355005041.py:11: UserWarning: pandas only supports SQLAlchemy connectable (engine/connection) or database string URI or sqlite3 DBAPI2 connection. Other DBAPI2 objects are not tested. Please consider using SQLAlchemy.\n",
      "  df_4_a = pd.read_sql(query_4_a, conn)\n"
     ]
    },
    {
     "data": {
      "text/html": [
       "<div>\n",
       "<style scoped>\n",
       "    .dataframe tbody tr th:only-of-type {\n",
       "        vertical-align: middle;\n",
       "    }\n",
       "\n",
       "    .dataframe tbody tr th {\n",
       "        vertical-align: top;\n",
       "    }\n",
       "\n",
       "    .dataframe thead th {\n",
       "        text-align: right;\n",
       "    }\n",
       "</style>\n",
       "<table border=\"1\" class=\"dataframe\">\n",
       "  <thead>\n",
       "    <tr style=\"text-align: right;\">\n",
       "      <th></th>\n",
       "      <th>pnome</th>\n",
       "      <th>unome</th>\n",
       "    </tr>\n",
       "  </thead>\n",
       "  <tbody>\n",
       "  </tbody>\n",
       "</table>\n",
       "</div>"
      ],
      "text/plain": [
       "Empty DataFrame\n",
       "Columns: [pnome, unome]\n",
       "Index: []"
      ]
     },
     "execution_count": 16,
     "metadata": {},
     "output_type": "execute_result"
    }
   ],
   "source": [
    "query_4_a = \"\"\"\n",
    "SELECT e.pnome, e.unome\n",
    "FROM empregado e\n",
    "WHERE e.ssn IN (\n",
    "    SELECT d.essn\n",
    "    FROM dependente d\n",
    "    WHERE d.nomedep = e.pnome\n",
    "      AND d.sexodep = e.sexo\n",
    ");\n",
    "\"\"\"\n",
    "df_4_a = pd.read_sql(query_4_a, conn)\n",
    "df_4_a"
   ]
  },
  {
   "cell_type": "markdown",
   "metadata": {},
   "source": [
    "### Query 4b\n",
    "- **SELECT e.pnome, e.unome**: Seleciona o primeiro nome e o sobrenome dos empregados.\n",
    "- **FROM empregado e**: Define a tabela `empregado` como a fonte dos dados.\n",
    "- **WHERE e.salario > (...)**: Filtra empregados cujo salário é maior que o valor retornado pela subconsulta.\n",
    "- **Subconsulta**:\n",
    "  - **SELECT AVG(salario) FROM empregado WHERE dno = '5'**: Calcula a média dos salários dos empregados que trabalham no departamento 5.\n"
   ]
  },
  {
   "cell_type": "code",
   "execution_count": 17,
   "metadata": {},
   "outputs": [
    {
     "name": "stderr",
     "output_type": "stream",
     "text": [
      "C:\\Users\\Ruy\\AppData\\Local\\Temp\\ipykernel_396\\1725863363.py:10: UserWarning: pandas only supports SQLAlchemy connectable (engine/connection) or database string URI or sqlite3 DBAPI2 connection. Other DBAPI2 objects are not tested. Please consider using SQLAlchemy.\n",
      "  df_4_b = pd.read_sql(query_4_b, conn)\n"
     ]
    },
    {
     "data": {
      "text/html": [
       "<div>\n",
       "<style scoped>\n",
       "    .dataframe tbody tr th:only-of-type {\n",
       "        vertical-align: middle;\n",
       "    }\n",
       "\n",
       "    .dataframe tbody tr th {\n",
       "        vertical-align: top;\n",
       "    }\n",
       "\n",
       "    .dataframe thead th {\n",
       "        text-align: right;\n",
       "    }\n",
       "</style>\n",
       "<table border=\"1\" class=\"dataframe\">\n",
       "  <thead>\n",
       "    <tr style=\"text-align: right;\">\n",
       "      <th></th>\n",
       "      <th>pnome</th>\n",
       "      <th>unome</th>\n",
       "    </tr>\n",
       "  </thead>\n",
       "  <tbody>\n",
       "    <tr>\n",
       "      <th>0</th>\n",
       "      <td>Fabio</td>\n",
       "      <td>Will</td>\n",
       "    </tr>\n",
       "    <tr>\n",
       "      <th>1</th>\n",
       "      <td>Jennifer</td>\n",
       "      <td>Wallace</td>\n",
       "    </tr>\n",
       "    <tr>\n",
       "      <th>2</th>\n",
       "      <td>Ricardo</td>\n",
       "      <td>Nantes</td>\n",
       "    </tr>\n",
       "    <tr>\n",
       "      <th>3</th>\n",
       "      <td>Joaquim</td>\n",
       "      <td>Brito</td>\n",
       "    </tr>\n",
       "    <tr>\n",
       "      <th>4</th>\n",
       "      <td>Roberto</td>\n",
       "      <td>Silva</td>\n",
       "    </tr>\n",
       "    <tr>\n",
       "      <th>5</th>\n",
       "      <td>Roberto</td>\n",
       "      <td>Silva</td>\n",
       "    </tr>\n",
       "  </tbody>\n",
       "</table>\n",
       "</div>"
      ],
      "text/plain": [
       "      pnome    unome\n",
       "0     Fabio     Will\n",
       "1  Jennifer  Wallace\n",
       "2   Ricardo   Nantes\n",
       "3   Joaquim    Brito\n",
       "4   Roberto    Silva\n",
       "5   Roberto    Silva"
      ]
     },
     "execution_count": 17,
     "metadata": {},
     "output_type": "execute_result"
    }
   ],
   "source": [
    "query_4_b = \"\"\"\n",
    "SELECT e.pnome, e.unome\n",
    "FROM empregado e\n",
    "WHERE e.salario > (\n",
    "    SELECT AVG(salario)\n",
    "    FROM empregado\n",
    "    WHERE dno = '5'\n",
    ");\n",
    "\"\"\"\n",
    "df_4_b = pd.read_sql(query_4_b, conn)\n",
    "df_4_b\n"
   ]
  },
  {
   "cell_type": "markdown",
   "metadata": {},
   "source": [
    "### Query 4c\n",
    "- **SELECT DISTINCT t1.essn**: Seleciona os números de segurança social únicos dos empregados.\n",
    "- **FROM trabalha t1**: Define a tabela `trabalha` como fonte de dados com o alias `t1`.\n",
    "- **WHERE (t1.pno, t1.horas) IN (...)**: Filtra empregados que trabalham nos mesmos projetos e com as mesmas horas que 'Fabio Will'.\n",
    "- **Subconsulta**:\n",
    "  - **SELECT t2.pno, t2.horas FROM trabalha t2 WHERE t2.essn = '333445555'**: Seleciona os projetos e as horas trabalhadas por 'Fabio Will'.\n",
    "- **AND t1.essn <> '333445555'**: Exclui 'Fabio Will' dos resultados."
   ]
  },
  {
   "cell_type": "code",
   "execution_count": 18,
   "metadata": {},
   "outputs": [
    {
     "name": "stderr",
     "output_type": "stream",
     "text": [
      "C:\\Users\\Ruy\\AppData\\Local\\Temp\\ipykernel_396\\1298578224.py:11: UserWarning: pandas only supports SQLAlchemy connectable (engine/connection) or database string URI or sqlite3 DBAPI2 connection. Other DBAPI2 objects are not tested. Please consider using SQLAlchemy.\n",
      "  df_4_c = pd.read_sql(query_4_c, conn)\n"
     ]
    },
    {
     "data": {
      "text/html": [
       "<div>\n",
       "<style scoped>\n",
       "    .dataframe tbody tr th:only-of-type {\n",
       "        vertical-align: middle;\n",
       "    }\n",
       "\n",
       "    .dataframe tbody tr th {\n",
       "        vertical-align: top;\n",
       "    }\n",
       "\n",
       "    .dataframe thead th {\n",
       "        text-align: right;\n",
       "    }\n",
       "</style>\n",
       "<table border=\"1\" class=\"dataframe\">\n",
       "  <thead>\n",
       "    <tr style=\"text-align: right;\">\n",
       "      <th></th>\n",
       "      <th>essn</th>\n",
       "    </tr>\n",
       "  </thead>\n",
       "  <tbody>\n",
       "  </tbody>\n",
       "</table>\n",
       "</div>"
      ],
      "text/plain": [
       "Empty DataFrame\n",
       "Columns: [essn]\n",
       "Index: []"
      ]
     },
     "execution_count": 18,
     "metadata": {},
     "output_type": "execute_result"
    }
   ],
   "source": [
    "query_4_c = \"\"\"\n",
    "SELECT DISTINCT t1.essn\n",
    "FROM trabalha t1\n",
    "WHERE (t1.pno, t1.horas) IN (\n",
    "    SELECT t2.pno, t2.horas\n",
    "    FROM trabalha t2\n",
    "    WHERE t2.essn = '333445555'\n",
    ")\n",
    "AND t1.essn <> '333445555';\n",
    "\"\"\"\n",
    "df_4_c = pd.read_sql(query_4_c, conn)\n",
    "df_4_c"
   ]
  },
  {
   "cell_type": "markdown",
   "metadata": {},
   "source": [
    "### Query 4d\n",
    "- **SELECT e.pnome, e.unome**: Seleciona o primeiro nome e o sobrenome dos empregados.\n",
    "- **FROM empregado e**: Define a tabela `empregado` como fonte de dados.\n",
    "- **WHERE e.ssn NOT IN (...)**: Filtra empregados que não estão listados na subconsulta, ou seja, que não trabalham em nenhum projeto.\n",
    "- **Subconsulta**:\n",
    "  - **SELECT t.essn FROM trabalha t**: Seleciona os SSNs de todos os empregados que trabalham em algum projeto."
   ]
  },
  {
   "cell_type": "code",
   "execution_count": 19,
   "metadata": {},
   "outputs": [
    {
     "name": "stderr",
     "output_type": "stream",
     "text": [
      "C:\\Users\\Ruy\\AppData\\Local\\Temp\\ipykernel_396\\4004894062.py:9: UserWarning: pandas only supports SQLAlchemy connectable (engine/connection) or database string URI or sqlite3 DBAPI2 connection. Other DBAPI2 objects are not tested. Please consider using SQLAlchemy.\n",
      "  df_4_d = pd.read_sql(query_4_d, conn)\n"
     ]
    },
    {
     "data": {
      "text/html": [
       "<div>\n",
       "<style scoped>\n",
       "    .dataframe tbody tr th:only-of-type {\n",
       "        vertical-align: middle;\n",
       "    }\n",
       "\n",
       "    .dataframe tbody tr th {\n",
       "        vertical-align: top;\n",
       "    }\n",
       "\n",
       "    .dataframe thead th {\n",
       "        text-align: right;\n",
       "    }\n",
       "</style>\n",
       "<table border=\"1\" class=\"dataframe\">\n",
       "  <thead>\n",
       "    <tr style=\"text-align: right;\">\n",
       "      <th></th>\n",
       "      <th>pnome</th>\n",
       "      <th>unome</th>\n",
       "    </tr>\n",
       "  </thead>\n",
       "  <tbody>\n",
       "    <tr>\n",
       "      <th>0</th>\n",
       "      <td>Fabio</td>\n",
       "      <td>Will</td>\n",
       "    </tr>\n",
       "    <tr>\n",
       "      <th>1</th>\n",
       "      <td>Roberto</td>\n",
       "      <td>Silva</td>\n",
       "    </tr>\n",
       "    <tr>\n",
       "      <th>2</th>\n",
       "      <td>Roberto</td>\n",
       "      <td>Silva</td>\n",
       "    </tr>\n",
       "  </tbody>\n",
       "</table>\n",
       "</div>"
      ],
      "text/plain": [
       "     pnome  unome\n",
       "0    Fabio   Will\n",
       "1  Roberto  Silva\n",
       "2  Roberto  Silva"
      ]
     },
     "execution_count": 19,
     "metadata": {},
     "output_type": "execute_result"
    }
   ],
   "source": [
    "query_4_d = \"\"\"\n",
    "SELECT e.pnome, e.unome\n",
    "FROM empregado e\n",
    "WHERE e.ssn NOT IN (\n",
    "    SELECT t.essn\n",
    "    FROM trabalha t\n",
    ");\n",
    "\"\"\"\n",
    "df_4_d = pd.read_sql(query_4_d, conn)\n",
    "df_4_d\n"
   ]
  },
  {
   "cell_type": "markdown",
   "metadata": {},
   "source": [
    "### Query 4e\n",
    "- **SELECT e.pnome, e.unome**: Seleciona o primeiro nome e o sobrenome dos empregados.\n",
    "- **FROM empregado e**: Define a tabela `empregado` como fonte de dados.\n",
    "- **WHERE e.ssn NOT IN (...)**: Filtra empregados que não estão listados na subconsulta, ou seja, que não têm dependentes.\n",
    "- **Subconsulta**:\n",
    "  - **SELECT d.essn FROM dependente d**: Seleciona os SSNs de todos os empregados que têm dependentes.\n"
   ]
  },
  {
   "cell_type": "code",
   "execution_count": 20,
   "metadata": {},
   "outputs": [
    {
     "name": "stderr",
     "output_type": "stream",
     "text": [
      "C:\\Users\\Ruy\\AppData\\Local\\Temp\\ipykernel_396\\636518637.py:9: UserWarning: pandas only supports SQLAlchemy connectable (engine/connection) or database string URI or sqlite3 DBAPI2 connection. Other DBAPI2 objects are not tested. Please consider using SQLAlchemy.\n",
      "  df_4_e = pd.read_sql(query_4_e, conn)\n"
     ]
    },
    {
     "data": {
      "text/html": [
       "<div>\n",
       "<style scoped>\n",
       "    .dataframe tbody tr th:only-of-type {\n",
       "        vertical-align: middle;\n",
       "    }\n",
       "\n",
       "    .dataframe tbody tr th {\n",
       "        vertical-align: top;\n",
       "    }\n",
       "\n",
       "    .dataframe thead th {\n",
       "        text-align: right;\n",
       "    }\n",
       "</style>\n",
       "<table border=\"1\" class=\"dataframe\">\n",
       "  <thead>\n",
       "    <tr style=\"text-align: right;\">\n",
       "      <th></th>\n",
       "      <th>pnome</th>\n",
       "      <th>unome</th>\n",
       "    </tr>\n",
       "  </thead>\n",
       "  <tbody>\n",
       "    <tr>\n",
       "      <th>0</th>\n",
       "      <td>Ricardo</td>\n",
       "      <td>Nantes</td>\n",
       "    </tr>\n",
       "    <tr>\n",
       "      <th>1</th>\n",
       "      <td>Alberto</td>\n",
       "      <td>Medeiros</td>\n",
       "    </tr>\n",
       "    <tr>\n",
       "      <th>2</th>\n",
       "      <td>Joaquim</td>\n",
       "      <td>Brito</td>\n",
       "    </tr>\n",
       "    <tr>\n",
       "      <th>3</th>\n",
       "      <td>Roberto</td>\n",
       "      <td>Silva</td>\n",
       "    </tr>\n",
       "    <tr>\n",
       "      <th>4</th>\n",
       "      <td>Alice</td>\n",
       "      <td>Zebra</td>\n",
       "    </tr>\n",
       "    <tr>\n",
       "      <th>5</th>\n",
       "      <td>Roberto</td>\n",
       "      <td>Silva</td>\n",
       "    </tr>\n",
       "  </tbody>\n",
       "</table>\n",
       "</div>"
      ],
      "text/plain": [
       "     pnome     unome\n",
       "0  Ricardo    Nantes\n",
       "1  Alberto  Medeiros\n",
       "2  Joaquim     Brito\n",
       "3  Roberto     Silva\n",
       "4    Alice     Zebra\n",
       "5  Roberto     Silva"
      ]
     },
     "execution_count": 20,
     "metadata": {},
     "output_type": "execute_result"
    }
   ],
   "source": [
    "query_4_e = \"\"\"\n",
    "SELECT e.pnome, e.unome\n",
    "FROM empregado e\n",
    "WHERE e.ssn NOT IN (\n",
    "    SELECT d.essn\n",
    "    FROM dependente d\n",
    ");\n",
    "\"\"\"\n",
    "df_4_e = pd.read_sql(query_4_e, conn)\n",
    "df_4_e"
   ]
  },
  {
   "cell_type": "markdown",
   "metadata": {},
   "source": [
    "### Query 4f\n",
    "- **SELECT e.unome**: Seleciona o sobrenome dos empregados.\n",
    "- **FROM empregado e**: Define a tabela `empregado` como fonte de dados.\n",
    "- **WHERE e.ssn IN (...)**: Inclui empregados cujos SSNs estão na lista de gerentes de departamento retornada pela primeira subconsulta.\n",
    "- **AND e.ssn NOT IN (...)**: Exclui empregados cujos SSNs estão na lista de empregados com dependentes retornada pela segunda subconsulta.\n",
    "- **Subconsulta 1**:\n",
    "  - **SELECT d.gerssn FROM departamento d**: Seleciona os SSNs dos gerentes de departamento.\n",
    "- **Subconsulta 2**:\n",
    "  - **SELECT dep.essn FROM dependente dep**: Seleciona os SSNs de todos os empregados que têm dependentes."
   ]
  },
  {
   "cell_type": "code",
   "execution_count": 21,
   "metadata": {},
   "outputs": [
    {
     "name": "stderr",
     "output_type": "stream",
     "text": [
      "C:\\Users\\Ruy\\AppData\\Local\\Temp\\ipykernel_396\\3078355420.py:13: UserWarning: pandas only supports SQLAlchemy connectable (engine/connection) or database string URI or sqlite3 DBAPI2 connection. Other DBAPI2 objects are not tested. Please consider using SQLAlchemy.\n",
      "  df_4_f = pd.read_sql(query_4_f, conn)\n"
     ]
    },
    {
     "data": {
      "text/html": [
       "<div>\n",
       "<style scoped>\n",
       "    .dataframe tbody tr th:only-of-type {\n",
       "        vertical-align: middle;\n",
       "    }\n",
       "\n",
       "    .dataframe tbody tr th {\n",
       "        vertical-align: top;\n",
       "    }\n",
       "\n",
       "    .dataframe thead th {\n",
       "        text-align: right;\n",
       "    }\n",
       "</style>\n",
       "<table border=\"1\" class=\"dataframe\">\n",
       "  <thead>\n",
       "    <tr style=\"text-align: right;\">\n",
       "      <th></th>\n",
       "      <th>unome</th>\n",
       "    </tr>\n",
       "  </thead>\n",
       "  <tbody>\n",
       "    <tr>\n",
       "      <th>0</th>\n",
       "      <td>Brito</td>\n",
       "    </tr>\n",
       "  </tbody>\n",
       "</table>\n",
       "</div>"
      ],
      "text/plain": [
       "   unome\n",
       "0  Brito"
      ]
     },
     "execution_count": 21,
     "metadata": {},
     "output_type": "execute_result"
    }
   ],
   "source": [
    "query_4_f = \"\"\"\n",
    "SELECT e.unome\n",
    "FROM empregado e\n",
    "WHERE e.ssn IN (\n",
    "    SELECT d.gerssn\n",
    "    FROM departamento d\n",
    ")\n",
    "AND e.ssn NOT IN (\n",
    "    SELECT dep.essn\n",
    "    FROM dependente dep\n",
    ");\n",
    "\"\"\"\n",
    "df_4_f = pd.read_sql(query_4_f, conn)\n",
    "df_4_f"
   ]
  },
  {
   "cell_type": "markdown",
   "metadata": {},
   "source": [
    "### Query 4g\n",
    "- **SELECT e.pnome, e.unome**: Seleciona o primeiro nome e o sobrenome dos empregados.\n",
    "- **FROM empregado e**: Define a tabela `empregado` como fonte de dados.\n",
    "- **WHERE e.ssn IN (...)**: Inclui empregados cujos SSNs estão na lista de gerentes de departamento retornada pela subconsulta.\n",
    "- **AND EXISTS (...)**: Adiciona uma cláusula que verifica se existem entradas na tabela `dependente` que correspondam ao SSN do empregado, filtrando para incluir apenas gerentes que têm dependentes.\n",
    "- **Subconsulta**:\n",
    "  - **SELECT 1 FROM dependente dep WHERE dep.essn = e.ssn**: Verifica a existência de dependentes para o gerente atual."
   ]
  },
  {
   "cell_type": "code",
   "execution_count": 22,
   "metadata": {},
   "outputs": [
    {
     "name": "stderr",
     "output_type": "stream",
     "text": [
      "C:\\Users\\Ruy\\AppData\\Local\\Temp\\ipykernel_396\\3070367589.py:14: UserWarning: pandas only supports SQLAlchemy connectable (engine/connection) or database string URI or sqlite3 DBAPI2 connection. Other DBAPI2 objects are not tested. Please consider using SQLAlchemy.\n",
      "  df_4_g = pd.read_sql(query_4_g, conn)\n"
     ]
    },
    {
     "data": {
      "text/html": [
       "<div>\n",
       "<style scoped>\n",
       "    .dataframe tbody tr th:only-of-type {\n",
       "        vertical-align: middle;\n",
       "    }\n",
       "\n",
       "    .dataframe tbody tr th {\n",
       "        vertical-align: top;\n",
       "    }\n",
       "\n",
       "    .dataframe thead th {\n",
       "        text-align: right;\n",
       "    }\n",
       "</style>\n",
       "<table border=\"1\" class=\"dataframe\">\n",
       "  <thead>\n",
       "    <tr style=\"text-align: right;\">\n",
       "      <th></th>\n",
       "      <th>pnome</th>\n",
       "      <th>unome</th>\n",
       "    </tr>\n",
       "  </thead>\n",
       "  <tbody>\n",
       "    <tr>\n",
       "      <th>0</th>\n",
       "      <td>Joao</td>\n",
       "      <td>Souza</td>\n",
       "    </tr>\n",
       "    <tr>\n",
       "      <th>1</th>\n",
       "      <td>Jennifer</td>\n",
       "      <td>Wallace</td>\n",
       "    </tr>\n",
       "  </tbody>\n",
       "</table>\n",
       "</div>"
      ],
      "text/plain": [
       "      pnome    unome\n",
       "0      Joao    Souza\n",
       "1  Jennifer  Wallace"
      ]
     },
     "execution_count": 22,
     "metadata": {},
     "output_type": "execute_result"
    }
   ],
   "source": [
    "query_4_g = \"\"\"\n",
    "SELECT e.pnome, e.unome\n",
    "FROM empregado e\n",
    "WHERE e.ssn IN (\n",
    "    SELECT gerssn\n",
    "    FROM departamento\n",
    ")\n",
    "AND EXISTS (\n",
    "    SELECT 1\n",
    "    FROM dependente dep\n",
    "    WHERE dep.essn = e.ssn\n",
    ");\n",
    "\"\"\"\n",
    "df_4_g = pd.read_sql(query_4_g, conn)\n",
    "df_4_g"
   ]
  },
  {
   "cell_type": "markdown",
   "metadata": {},
   "source": [
    "### Query 5a\n",
    "- **CREATE TABLE tempEmpregado AS**: Cria uma nova tabela chamada `tempEmpregado` no banco de dados.\n",
    "- **SELECT ssn, pnome, sexo, endereco, datanasc**: Especifica as colunas selecionadas da tabela `empregado` para serem inseridas na nova tabela.\n",
    "- **FROM empregado**: Define a tabela `empregado` como a fonte dos dados para a criação da nova tabela.\n",
    "- **Detalhe**: Aqui eu percebi que eu terei que excluir a tabela caso ela exista pra que a query 5_a funcione."
   ]
  },
  {
   "cell_type": "code",
   "execution_count": 23,
   "metadata": {},
   "outputs": [],
   "source": [
    "# Drop Table tempEMPREGADO\n",
    "cur.execute(\"DROP TABLE IF EXISTS tempEMPREGADO;\")"
   ]
  },
  {
   "cell_type": "code",
   "execution_count": 24,
   "metadata": {},
   "outputs": [],
   "source": [
    "# Criando uma nova tabela tempEmpregado a partir da tabela empregado\n",
    "query_5_a = \"\"\"\n",
    "CREATE TABLE tempEmpregado AS\n",
    "SELECT ssn, pnome, sexo, endereco, datanasc\n",
    "FROM empregado;\n",
    "\"\"\"\n",
    "cur.execute(query_5_a)"
   ]
  },
  {
   "cell_type": "markdown",
   "metadata": {},
   "source": [
    "### Query 5b\n",
    "- **EXPLAIN ANALYZE SELECT * FROM tempEmpregado**: Executa a análise do plano de execução do comando SQL para selecionar todos os registros da tabela `tempEmpregado`, ajudando a verificar o tempo de execução."
   ]
  },
  {
   "cell_type": "code",
   "execution_count": 25,
   "metadata": {},
   "outputs": [
    {
     "name": "stderr",
     "output_type": "stream",
     "text": [
      "C:\\Users\\Ruy\\AppData\\Local\\Temp\\ipykernel_396\\2087909486.py:6: UserWarning: pandas only supports SQLAlchemy connectable (engine/connection) or database string URI or sqlite3 DBAPI2 connection. Other DBAPI2 objects are not tested. Please consider using SQLAlchemy.\n",
      "  df_5_b = pd.read_sql(query_5_b, conn)\n"
     ]
    },
    {
     "data": {
      "text/html": [
       "<div>\n",
       "<style scoped>\n",
       "    .dataframe tbody tr th:only-of-type {\n",
       "        vertical-align: middle;\n",
       "    }\n",
       "\n",
       "    .dataframe tbody tr th {\n",
       "        vertical-align: top;\n",
       "    }\n",
       "\n",
       "    .dataframe thead th {\n",
       "        text-align: right;\n",
       "    }\n",
       "</style>\n",
       "<table border=\"1\" class=\"dataframe\">\n",
       "  <thead>\n",
       "    <tr style=\"text-align: right;\">\n",
       "      <th></th>\n",
       "      <th>QUERY PLAN</th>\n",
       "    </tr>\n",
       "  </thead>\n",
       "  <tbody>\n",
       "    <tr>\n",
       "      <th>0</th>\n",
       "      <td>Seq Scan on tempempregado  (cost=0.00..12.90 r...</td>\n",
       "    </tr>\n",
       "    <tr>\n",
       "      <th>1</th>\n",
       "      <td>Planning Time: 0.061 ms</td>\n",
       "    </tr>\n",
       "    <tr>\n",
       "      <th>2</th>\n",
       "      <td>Execution Time: 0.016 ms</td>\n",
       "    </tr>\n",
       "  </tbody>\n",
       "</table>\n",
       "</div>"
      ],
      "text/plain": [
       "                                          QUERY PLAN\n",
       "0  Seq Scan on tempempregado  (cost=0.00..12.90 r...\n",
       "1                            Planning Time: 0.061 ms\n",
       "2                           Execution Time: 0.016 ms"
      ]
     },
     "execution_count": 25,
     "metadata": {},
     "output_type": "execute_result"
    }
   ],
   "source": [
    "# Analisando o plano de execução para a seleção de todos os registros da tabela tempEmpregado\n",
    "query_5_b = \"\"\"\n",
    "EXPLAIN ANALYZE SELECT * FROM tempEmpregado;\n",
    "\"\"\"\n",
    "# Mostrando o plano de execução\n",
    "df_5_b = pd.read_sql(query_5_b, conn)\n",
    "df_5_b"
   ]
  },
  {
   "cell_type": "markdown",
   "metadata": {},
   "source": [
    "### Query 5c\n",
    "- **CREATE UNIQUE INDEX idx_ssn_tempEmpregado**: Cria um índice único chamado `idx_ssn_tempEmpregado`.\n",
    "- **ON tempEmpregado (ssn)**: Especifica que o índice será aplicado na coluna `ssn` da tabela `tempEmpregado`.\n",
    "- **USING BTREE**: Não consegui executar o comando `USING BTREE` no postgress."
   ]
  },
  {
   "cell_type": "code",
   "execution_count": 26,
   "metadata": {},
   "outputs": [],
   "source": [
    "# Criando um índice único na coluna ssn usando o método BTREE\n",
    "query_5_c = \"\"\"\n",
    "CREATE UNIQUE INDEX idx_ssn_tempEmpregado\n",
    "ON tempEmpregado (ssn);\n",
    "\"\"\"\n",
    "cur.execute(query_5_c)"
   ]
  },
  {
   "cell_type": "markdown",
   "metadata": {},
   "source": [
    "### Query 5d\n",
    "- **CREATE INDEX idx_pnome_tempEmpregado**: Cria um índice chamado `idx_pnome_tempEmpregado`.\n",
    "- **ON tempEmpregado (pnome DESC)**: Aplica o índice na coluna `pnome` em ordem decrescente.\n",
    "- **USING HASH**: Também não funcionou."
   ]
  },
  {
   "cell_type": "code",
   "execution_count": 27,
   "metadata": {},
   "outputs": [],
   "source": [
    "# Criando um índice na coluna pnome em ordem decrescente usando o método HASH\n",
    "query_5_d = \"\"\"\n",
    "CREATE INDEX idx_pnome_tempEmpregado\n",
    "ON tempEmpregado (pnome DESC);\n",
    "\"\"\"\n",
    "cur.execute(query_5_d)"
   ]
  },
  {
   "cell_type": "markdown",
   "metadata": {},
   "source": [
    "### Query 5e\n",
    "- **EXPLAIN ANALYZE SELECT * FROM tempEmpregado**: Repete a análise do plano de execução após a criação dos índices para ver se há mudanças na performance da consulta.\n",
    "- **REDUÇÃO DE TEMPO**: O tempo de execução da Query diminuiu consideravelmente ao adicionar indices para busca. Mas também é preciso levar em consideração que temos poucos dados nesse banco, talvez em algo em larga escala surtisse um efeito bem maior."
   ]
  },
  {
   "cell_type": "code",
   "execution_count": 28,
   "metadata": {},
   "outputs": [
    {
     "name": "stderr",
     "output_type": "stream",
     "text": [
      "C:\\Users\\Ruy\\AppData\\Local\\Temp\\ipykernel_396\\129061025.py:5: UserWarning: pandas only supports SQLAlchemy connectable (engine/connection) or database string URI or sqlite3 DBAPI2 connection. Other DBAPI2 objects are not tested. Please consider using SQLAlchemy.\n",
      "  df_5_e = pd.read_sql(query_5_e, conn)\n"
     ]
    },
    {
     "data": {
      "text/html": [
       "<div>\n",
       "<style scoped>\n",
       "    .dataframe tbody tr th:only-of-type {\n",
       "        vertical-align: middle;\n",
       "    }\n",
       "\n",
       "    .dataframe tbody tr th {\n",
       "        vertical-align: top;\n",
       "    }\n",
       "\n",
       "    .dataframe thead th {\n",
       "        text-align: right;\n",
       "    }\n",
       "</style>\n",
       "<table border=\"1\" class=\"dataframe\">\n",
       "  <thead>\n",
       "    <tr style=\"text-align: right;\">\n",
       "      <th></th>\n",
       "      <th>QUERY PLAN</th>\n",
       "    </tr>\n",
       "  </thead>\n",
       "  <tbody>\n",
       "    <tr>\n",
       "      <th>0</th>\n",
       "      <td>Seq Scan on tempempregado  (cost=0.00..1.10 ro...</td>\n",
       "    </tr>\n",
       "    <tr>\n",
       "      <th>1</th>\n",
       "      <td>Planning Time: 0.134 ms</td>\n",
       "    </tr>\n",
       "    <tr>\n",
       "      <th>2</th>\n",
       "      <td>Execution Time: 0.018 ms</td>\n",
       "    </tr>\n",
       "  </tbody>\n",
       "</table>\n",
       "</div>"
      ],
      "text/plain": [
       "                                          QUERY PLAN\n",
       "0  Seq Scan on tempempregado  (cost=0.00..1.10 ro...\n",
       "1                            Planning Time: 0.134 ms\n",
       "2                           Execution Time: 0.018 ms"
      ]
     },
     "execution_count": 28,
     "metadata": {},
     "output_type": "execute_result"
    }
   ],
   "source": [
    "# Analisando o plano de execução novamente após a criação dos índices\n",
    "query_5_e = \"\"\"\n",
    "EXPLAIN ANALYZE SELECT * FROM tempEmpregado;\n",
    "\"\"\"\n",
    "df_5_e = pd.read_sql(query_5_e, conn)\n",
    "df_5_e"
   ]
  },
  {
   "cell_type": "markdown",
   "metadata": {},
   "source": [
    "### Query 5f\n",
    "- **DROP INDEX idx_ssn_tempEmpregado**: Remove o índice `idx_ssn_tempEmpregado`.\n",
    "- **DROP INDEX idx_pnome_tempEmpregado**: Remove o índice `idx_pnome_tempEmpregado`."
   ]
  },
  {
   "cell_type": "code",
   "execution_count": 29,
   "metadata": {},
   "outputs": [],
   "source": [
    "# Removendo os índices criados\n",
    "query_5_f = \"\"\"\n",
    "DROP INDEX idx_ssn_tempEmpregado;\n",
    "DROP INDEX idx_pnome_tempEmpregado;\n",
    "\"\"\"\n",
    "cur.execute(query_5_f)"
   ]
  },
  {
   "cell_type": "markdown",
   "metadata": {},
   "source": [
    "### Query 5g\n",
    "- **DROP TABLE tempEmpregado**: Remove completamente a tabela `tempEmpregado` do banco de dados, incluindo todos os dados e índices associados."
   ]
  },
  {
   "cell_type": "code",
   "execution_count": 30,
   "metadata": {},
   "outputs": [],
   "source": [
    "# Removendo a tabela tempEmpregado\n",
    "query_5_g = \"\"\"\n",
    "DROP TABLE tempEmpregado;\n",
    "\"\"\"\n",
    "cur.execute(query_5_g)\n"
   ]
  },
  {
   "cell_type": "markdown",
   "metadata": {},
   "source": [
    "### Query 6a\n",
    "- **CREATE VIEW TRABALHA_EM AS**: Cria uma visão chamada `TRABALHA_EM`.\n",
    "- **SELECT e.pnome, e.unome, p.pjnome, t.horas**: Seleciona o primeiro nome e o sobrenome do empregado, o nome do projeto e as horas trabalhadas.\n",
    "- **FROM empregado e**: Define a tabela `empregado` como a fonte dos dados com o alias `e`.\n",
    "- **JOIN trabalha t ON e.ssn = t.essn**: Realiza um `JOIN` entre as tabelas `empregado` e `trabalha` com base no número de segurança social do empregado.\n",
    "- **JOIN projeto p ON t.pno = p.pnumero**: Realiza uma segunda junção entre as tabelas `trabalha` e `projeto` com base no número do projeto."
   ]
  },
  {
   "cell_type": "code",
   "execution_count": 31,
   "metadata": {},
   "outputs": [],
   "source": [
    "query_6_a = \"\"\"\n",
    "CREATE VIEW TRABALHA_EM AS\n",
    "SELECT e.pnome, e.unome, p.pjnome, t.horas\n",
    "FROM empregado e\n",
    "JOIN trabalha t ON e.ssn = t.essn\n",
    "JOIN projeto p ON t.pno = p.pnumero;\n",
    "\"\"\"\n",
    "\n",
    "cur.execute(query_6_a)\n"
   ]
  },
  {
   "cell_type": "code",
   "execution_count": 32,
   "metadata": {},
   "outputs": [
    {
     "name": "stderr",
     "output_type": "stream",
     "text": [
      "C:\\Users\\Ruy\\AppData\\Local\\Temp\\ipykernel_396\\2749089068.py:2: UserWarning: pandas only supports SQLAlchemy connectable (engine/connection) or database string URI or sqlite3 DBAPI2 connection. Other DBAPI2 objects are not tested. Please consider using SQLAlchemy.\n",
      "  pd.read_sql(\"SELECT * FROM TRABALHA_EM;\", conn)\n"
     ]
    },
    {
     "data": {
      "text/html": [
       "<div>\n",
       "<style scoped>\n",
       "    .dataframe tbody tr th:only-of-type {\n",
       "        vertical-align: middle;\n",
       "    }\n",
       "\n",
       "    .dataframe tbody tr th {\n",
       "        vertical-align: top;\n",
       "    }\n",
       "\n",
       "    .dataframe thead th {\n",
       "        text-align: right;\n",
       "    }\n",
       "</style>\n",
       "<table border=\"1\" class=\"dataframe\">\n",
       "  <thead>\n",
       "    <tr style=\"text-align: right;\">\n",
       "      <th></th>\n",
       "      <th>pnome</th>\n",
       "      <th>unome</th>\n",
       "      <th>pjnome</th>\n",
       "      <th>horas</th>\n",
       "    </tr>\n",
       "  </thead>\n",
       "  <tbody>\n",
       "    <tr>\n",
       "      <th>0</th>\n",
       "      <td>Joao</td>\n",
       "      <td>Souza</td>\n",
       "      <td>ProdutoX</td>\n",
       "      <td>32.5</td>\n",
       "    </tr>\n",
       "    <tr>\n",
       "      <th>1</th>\n",
       "      <td>Joao</td>\n",
       "      <td>Souza</td>\n",
       "      <td>ProdutoY</td>\n",
       "      <td>7.5</td>\n",
       "    </tr>\n",
       "    <tr>\n",
       "      <th>2</th>\n",
       "      <td>Ricardo</td>\n",
       "      <td>Nantes</td>\n",
       "      <td>ProdutoZ</td>\n",
       "      <td>40.0</td>\n",
       "    </tr>\n",
       "    <tr>\n",
       "      <th>3</th>\n",
       "      <td>Jussara</td>\n",
       "      <td>Pereira</td>\n",
       "      <td>ProdutoX</td>\n",
       "      <td>20.0</td>\n",
       "    </tr>\n",
       "    <tr>\n",
       "      <th>4</th>\n",
       "      <td>Jussara</td>\n",
       "      <td>Pereira</td>\n",
       "      <td>ProdutoY</td>\n",
       "      <td>20.0</td>\n",
       "    </tr>\n",
       "    <tr>\n",
       "      <th>5</th>\n",
       "      <td>Alice</td>\n",
       "      <td>Zebra</td>\n",
       "      <td>Novos Beneficios</td>\n",
       "      <td>30.0</td>\n",
       "    </tr>\n",
       "    <tr>\n",
       "      <th>6</th>\n",
       "      <td>Alberto</td>\n",
       "      <td>Medeiros</td>\n",
       "      <td>Automatizacao</td>\n",
       "      <td>35.0</td>\n",
       "    </tr>\n",
       "    <tr>\n",
       "      <th>7</th>\n",
       "      <td>Alberto</td>\n",
       "      <td>Medeiros</td>\n",
       "      <td>Novos Beneficios</td>\n",
       "      <td>5.0</td>\n",
       "    </tr>\n",
       "    <tr>\n",
       "      <th>8</th>\n",
       "      <td>Jennifer</td>\n",
       "      <td>Wallace</td>\n",
       "      <td>Novos Beneficios</td>\n",
       "      <td>20.0</td>\n",
       "    </tr>\n",
       "    <tr>\n",
       "      <th>9</th>\n",
       "      <td>Jennifer</td>\n",
       "      <td>Wallace</td>\n",
       "      <td>Reorganizacao</td>\n",
       "      <td>15.0</td>\n",
       "    </tr>\n",
       "    <tr>\n",
       "      <th>10</th>\n",
       "      <td>Joaquim</td>\n",
       "      <td>Brito</td>\n",
       "      <td>Reorganizacao</td>\n",
       "      <td>NaN</td>\n",
       "    </tr>\n",
       "    <tr>\n",
       "      <th>11</th>\n",
       "      <td>Alice</td>\n",
       "      <td>Zebra</td>\n",
       "      <td>Automatizacao</td>\n",
       "      <td>5.0</td>\n",
       "    </tr>\n",
       "  </tbody>\n",
       "</table>\n",
       "</div>"
      ],
      "text/plain": [
       "       pnome     unome            pjnome  horas\n",
       "0       Joao     Souza          ProdutoX   32.5\n",
       "1       Joao     Souza          ProdutoY    7.5\n",
       "2    Ricardo    Nantes          ProdutoZ   40.0\n",
       "3    Jussara   Pereira          ProdutoX   20.0\n",
       "4    Jussara   Pereira          ProdutoY   20.0\n",
       "5      Alice     Zebra  Novos Beneficios   30.0\n",
       "6    Alberto  Medeiros     Automatizacao   35.0\n",
       "7    Alberto  Medeiros  Novos Beneficios    5.0\n",
       "8   Jennifer   Wallace  Novos Beneficios   20.0\n",
       "9   Jennifer   Wallace     Reorganizacao   15.0\n",
       "10   Joaquim     Brito     Reorganizacao    NaN\n",
       "11     Alice     Zebra     Automatizacao    5.0"
      ]
     },
     "execution_count": 32,
     "metadata": {},
     "output_type": "execute_result"
    }
   ],
   "source": [
    "# Select * FROM TRABALHA_EM\n",
    "pd.read_sql(\"SELECT * FROM TRABALHA_EM;\", conn)"
   ]
  },
  {
   "cell_type": "markdown",
   "metadata": {},
   "source": [
    "### Query 6b\n",
    "- **SELECT pnome, unome**: Especifica que queremos retornar os campos pnome (primeiro nome) e unome (último nome) dos empregados.\n",
    "- **FROM TRABALHA_EM**: Indica que a consulta será feita na visão `TRABALHA_EM`.\n",
    "- **WHERE pjnome = 'ProdutoX'**: Filtra os registros para incluir apenas aqueles onde o nome do projeto é 'ProdutoX'."
   ]
  },
  {
   "cell_type": "code",
   "execution_count": 33,
   "metadata": {},
   "outputs": [
    {
     "name": "stderr",
     "output_type": "stream",
     "text": [
      "C:\\Users\\Ruy\\AppData\\Local\\Temp\\ipykernel_396\\1417682930.py:6: UserWarning: pandas only supports SQLAlchemy connectable (engine/connection) or database string URI or sqlite3 DBAPI2 connection. Other DBAPI2 objects are not tested. Please consider using SQLAlchemy.\n",
      "  df_6_b = pd.read_sql(query_6_b, conn)\n"
     ]
    },
    {
     "data": {
      "text/html": [
       "<div>\n",
       "<style scoped>\n",
       "    .dataframe tbody tr th:only-of-type {\n",
       "        vertical-align: middle;\n",
       "    }\n",
       "\n",
       "    .dataframe tbody tr th {\n",
       "        vertical-align: top;\n",
       "    }\n",
       "\n",
       "    .dataframe thead th {\n",
       "        text-align: right;\n",
       "    }\n",
       "</style>\n",
       "<table border=\"1\" class=\"dataframe\">\n",
       "  <thead>\n",
       "    <tr style=\"text-align: right;\">\n",
       "      <th></th>\n",
       "      <th>pnome</th>\n",
       "      <th>unome</th>\n",
       "    </tr>\n",
       "  </thead>\n",
       "  <tbody>\n",
       "    <tr>\n",
       "      <th>0</th>\n",
       "      <td>Joao</td>\n",
       "      <td>Souza</td>\n",
       "    </tr>\n",
       "    <tr>\n",
       "      <th>1</th>\n",
       "      <td>Jussara</td>\n",
       "      <td>Pereira</td>\n",
       "    </tr>\n",
       "  </tbody>\n",
       "</table>\n",
       "</div>"
      ],
      "text/plain": [
       "     pnome    unome\n",
       "0     Joao    Souza\n",
       "1  Jussara  Pereira"
      ]
     },
     "execution_count": 33,
     "metadata": {},
     "output_type": "execute_result"
    }
   ],
   "source": [
    "query_6_b = \"\"\"\n",
    "SELECT pnome, unome\n",
    "FROM TRABALHA_EM\n",
    "WHERE pjnome = 'ProdutoX';\n",
    "\"\"\"\n",
    "df_6_b = pd.read_sql(query_6_b, conn)\n",
    "df_6_b"
   ]
  },
  {
   "cell_type": "markdown",
   "metadata": {},
   "source": [
    "### Query 6c\n",
    "- **DROP VIEW TRABALHA_EM**: Remove completamente a visão `TRABALHA_EM` do banco de dados."
   ]
  },
  {
   "cell_type": "code",
   "execution_count": 34,
   "metadata": {},
   "outputs": [],
   "source": [
    "query_6_c = \"\"\"\n",
    "DROP VIEW TRABALHA_EM;\n",
    "\"\"\"\n",
    "cur.execute(query_6_c)"
   ]
  },
  {
   "cell_type": "markdown",
   "metadata": {},
   "source": [
    "### Query 6d\n",
    "- **CREATE VIEW DEPTO_INFO AS**: Cria uma visão chamada `DEPTO_INFO`.\n",
    "- **SELECT d.dnome, COUNT(e.ssn) AS total_empregados, SUM(e.salario) AS total_salarios**: Seleciona o nome do departamento, conta o número de empregados e soma os salários dos empregados em cada departamento.\n",
    "- **FROM departamento d LEFT JOIN empregado e ON d.dnumero = e.dno**: Realiza uma junção entre as tabelas `departamento` e `empregado`, ligando-os pelo número do departamento.\n",
    "- **GROUP BY d.dnome**: Agrupa os resultados pelo nome do departamento."
   ]
  },
  {
   "cell_type": "code",
   "execution_count": 35,
   "metadata": {},
   "outputs": [],
   "source": [
    "query_6_d = \"\"\"\n",
    "CREATE VIEW DEPTO_INFO AS\n",
    "SELECT d.dnome, \n",
    "       COUNT(e.ssn) AS total_empregados, \n",
    "       SUM(e.salario) AS total_salarios\n",
    "FROM departamento d\n",
    "LEFT JOIN empregado e ON d.dnumero = e.dno\n",
    "GROUP BY d.dnome;\n",
    "\"\"\"\n",
    "cur.execute(query_6_d)"
   ]
  },
  {
   "cell_type": "code",
   "execution_count": 36,
   "metadata": {},
   "outputs": [
    {
     "name": "stderr",
     "output_type": "stream",
     "text": [
      "C:\\Users\\Ruy\\AppData\\Local\\Temp\\ipykernel_396\\3369655910.py:1: UserWarning: pandas only supports SQLAlchemy connectable (engine/connection) or database string URI or sqlite3 DBAPI2 connection. Other DBAPI2 objects are not tested. Please consider using SQLAlchemy.\n",
      "  pd.read_sql(\"SELECT * FROM DEPTO_INFO;\", conn)\n"
     ]
    },
    {
     "data": {
      "text/html": [
       "<div>\n",
       "<style scoped>\n",
       "    .dataframe tbody tr th:only-of-type {\n",
       "        vertical-align: middle;\n",
       "    }\n",
       "\n",
       "    .dataframe tbody tr th {\n",
       "        vertical-align: top;\n",
       "    }\n",
       "\n",
       "    .dataframe thead th {\n",
       "        text-align: right;\n",
       "    }\n",
       "</style>\n",
       "<table border=\"1\" class=\"dataframe\">\n",
       "  <thead>\n",
       "    <tr style=\"text-align: right;\">\n",
       "      <th></th>\n",
       "      <th>dnome</th>\n",
       "      <th>total_empregados</th>\n",
       "      <th>total_salarios</th>\n",
       "    </tr>\n",
       "  </thead>\n",
       "  <tbody>\n",
       "    <tr>\n",
       "      <th>0</th>\n",
       "      <td>Administracao</td>\n",
       "      <td>3</td>\n",
       "      <td>93000.0</td>\n",
       "    </tr>\n",
       "    <tr>\n",
       "      <th>1</th>\n",
       "      <td>Pesquisa</td>\n",
       "      <td>4</td>\n",
       "      <td>133000.0</td>\n",
       "    </tr>\n",
       "    <tr>\n",
       "      <th>2</th>\n",
       "      <td>Sede Administrativa</td>\n",
       "      <td>3</td>\n",
       "      <td>171000.0</td>\n",
       "    </tr>\n",
       "  </tbody>\n",
       "</table>\n",
       "</div>"
      ],
      "text/plain": [
       "                 dnome  total_empregados  total_salarios\n",
       "0        Administracao                 3         93000.0\n",
       "1             Pesquisa                 4        133000.0\n",
       "2  Sede Administrativa                 3        171000.0"
      ]
     },
     "execution_count": 36,
     "metadata": {},
     "output_type": "execute_result"
    }
   ],
   "source": [
    "pd.read_sql(\"SELECT * FROM DEPTO_INFO;\", conn)"
   ]
  },
  {
   "cell_type": "markdown",
   "metadata": {},
   "source": [
    "### Query 6e\n",
    "- **SELECT * FROM DEPTO_INFO**: Seleciona todas as colunas disponíveis na visão `DEPTO_INFO`.\n",
    "- **ORDER BY total_salarios DESC**: Ordena os resultados pela coluna `total_salarios` em ordem decrescente."
   ]
  },
  {
   "cell_type": "code",
   "execution_count": 37,
   "metadata": {},
   "outputs": [
    {
     "name": "stderr",
     "output_type": "stream",
     "text": [
      "C:\\Users\\Ruy\\AppData\\Local\\Temp\\ipykernel_396\\2788184038.py:6: UserWarning: pandas only supports SQLAlchemy connectable (engine/connection) or database string URI or sqlite3 DBAPI2 connection. Other DBAPI2 objects are not tested. Please consider using SQLAlchemy.\n",
      "  df_6_e = pd.read_sql(query_6_e, conn)\n"
     ]
    },
    {
     "data": {
      "text/html": [
       "<div>\n",
       "<style scoped>\n",
       "    .dataframe tbody tr th:only-of-type {\n",
       "        vertical-align: middle;\n",
       "    }\n",
       "\n",
       "    .dataframe tbody tr th {\n",
       "        vertical-align: top;\n",
       "    }\n",
       "\n",
       "    .dataframe thead th {\n",
       "        text-align: right;\n",
       "    }\n",
       "</style>\n",
       "<table border=\"1\" class=\"dataframe\">\n",
       "  <thead>\n",
       "    <tr style=\"text-align: right;\">\n",
       "      <th></th>\n",
       "      <th>dnome</th>\n",
       "      <th>total_empregados</th>\n",
       "      <th>total_salarios</th>\n",
       "    </tr>\n",
       "  </thead>\n",
       "  <tbody>\n",
       "    <tr>\n",
       "      <th>0</th>\n",
       "      <td>Sede Administrativa</td>\n",
       "      <td>3</td>\n",
       "      <td>171000.0</td>\n",
       "    </tr>\n",
       "    <tr>\n",
       "      <th>1</th>\n",
       "      <td>Pesquisa</td>\n",
       "      <td>4</td>\n",
       "      <td>133000.0</td>\n",
       "    </tr>\n",
       "    <tr>\n",
       "      <th>2</th>\n",
       "      <td>Administracao</td>\n",
       "      <td>3</td>\n",
       "      <td>93000.0</td>\n",
       "    </tr>\n",
       "  </tbody>\n",
       "</table>\n",
       "</div>"
      ],
      "text/plain": [
       "                 dnome  total_empregados  total_salarios\n",
       "0  Sede Administrativa                 3        171000.0\n",
       "1             Pesquisa                 4        133000.0\n",
       "2        Administracao                 3         93000.0"
      ]
     },
     "execution_count": 37,
     "metadata": {},
     "output_type": "execute_result"
    }
   ],
   "source": [
    "query_6_e = \"\"\"\n",
    "SELECT *\n",
    "FROM DEPTO_INFO\n",
    "ORDER BY total_salarios DESC;\n",
    "\"\"\"\n",
    "df_6_e = pd.read_sql(query_6_e, conn)\n",
    "df_6_e"
   ]
  },
  {
   "cell_type": "markdown",
   "metadata": {},
   "source": [
    "### Query 6f\n",
    "- **DROP VIEW DEPTO_INFO**: Remove completamente a visão `DEPTO_INFO` do banco de dados."
   ]
  },
  {
   "cell_type": "code",
   "execution_count": 38,
   "metadata": {},
   "outputs": [],
   "source": [
    "query_6_f = \"\"\"\n",
    "DROP VIEW DEPTO_INFO;\n",
    "\"\"\"\n",
    "cur.execute(query_6_f)"
   ]
  },
  {
   "cell_type": "code",
   "execution_count": 39,
   "metadata": {},
   "outputs": [],
   "source": [
    "#Fechar conexão\n",
    "cur.close()\n",
    "conn.close()"
   ]
  }
 ],
 "metadata": {
  "kernelspec": {
   "display_name": "Python 3",
   "language": "python",
   "name": "python3"
  },
  "language_info": {
   "codemirror_mode": {
    "name": "ipython",
    "version": 3
   },
   "file_extension": ".py",
   "mimetype": "text/x-python",
   "name": "python",
   "nbconvert_exporter": "python",
   "pygments_lexer": "ipython3",
   "version": "3.12.4"
  }
 },
 "nbformat": 4,
 "nbformat_minor": 2
}
